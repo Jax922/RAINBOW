{
 "cells": [
  {
   "cell_type": "markdown",
   "metadata": {},
   "source": [
    "# Demo of API usage of the Prox Soft Body Simulator"
   ]
  },
  {
   "cell_type": "code",
   "execution_count": 1,
   "metadata": {},
   "outputs": [],
   "source": [
    "%matplotlib widget"
   ]
  },
  {
   "cell_type": "markdown",
   "metadata": {},
   "source": [
    "First we make sure to import all modules that is needed."
   ]
  },
  {
   "cell_type": "code",
   "execution_count": 2,
   "metadata": {},
   "outputs": [],
   "source": [
    "import numpy as np\n",
    "import isl.math.vector3 as V3\n",
    "import isl.geometry.volume_mesh as VM\n",
    "import isl.simulators.prox_soft_bodies.api as API\n",
    "import isl.simulators.prox_soft_bodies.solver as SOLVER\n",
    "import isl.util.viewer as VIEWER"
   ]
  },
  {
   "cell_type": "markdown",
   "metadata": {},
   "source": [
    "Second we setup a test scene using the VM module for creating geometries and API for creating objects in the engine."
   ]
  },
  {
   "cell_type": "code",
   "execution_count": 3,
   "metadata": {},
   "outputs": [],
   "source": [
    "def wall_sdf(x):\n",
    "    return x[0] + 2.9\n",
    "\n",
    "V, T = VM.create_beam(36, 6, 6, 6.0, 1.0, 1.0)\n",
    "\n",
    "engine = API.Engine()\n",
    "\n",
    "API.create_soft_body(engine, 'beam', V, T)\n",
    "API.set_velocity(engine, 'beam', (0,0,0))\n",
    "API.set_type(engine, 'beam', 'Free')\n",
    "API.create_dirichlet_conditions(engine, 'beam', wall_sdf)\n",
    "\n",
    "API.create_material(engine, 'steel')\n",
    "API.set_elasticity(engine, 'steel', 1.0, 0.3)\n",
    "API.set_viscosity(engine, 'steel', 1.0)\n",
    "API.set_mass_density(engine, 'steel', 1.0)\n",
    "API.set_constitutive_model(engine, 'steel', API.SVK)\n",
    "API.set_gravity(engine, 'beam', (0,0,-10))\n",
    "API.set_material(engine,'beam','steel')\n",
    "\n",
    "API.create_surfaces_interaction(engine,'steel','steel', 0.5)"
   ]
  },
  {
   "cell_type": "markdown",
   "metadata": {},
   "source": [
    "Next we create a viewer object that will be responsible for showing the animation. We need an auxiliary function that can take contact point data out of the engine and into the viewer.\n",
    "\n",
    "Once we got this in place then we can create a simulation loop and start the simulation."
   ]
  },
  {
   "cell_type": "code",
   "execution_count": 4,
   "metadata": {},
   "outputs": [
    {
     "data": {
      "text/plain": "Renderer(camera=PerspectiveCamera(aspect=1.25, children=(DirectionalLight(color='white', intensity=0.6, positi…",
      "application/vnd.jupyter.widget-view+json": {
       "version_major": 2,
       "version_minor": 0,
       "model_id": "bf478a7543214a2f8efe100b5190f7c4"
      }
     },
     "metadata": {},
     "output_type": "display_data"
    },
    {
     "ename": "AttributeError",
     "evalue": "'float' object has no attribute 'number_of_nodes'",
     "output_type": "error",
     "traceback": [
      "\u001B[0;31m---------------------------------------------------------------------------\u001B[0m",
      "\u001B[0;31mAttributeError\u001B[0m                            Traceback (most recent call last)",
      "\u001B[0;32m<ipython-input-4-9234d3190fe5>\u001B[0m in \u001B[0;36m<module>\u001B[0;34m\u001B[0m\n\u001B[1;32m     38\u001B[0m \u001B[0mviewer\u001B[0m\u001B[0;34m.\u001B[0m\u001B[0mshow\u001B[0m\u001B[0;34m(\u001B[0m\u001B[0;34m)\u001B[0m\u001B[0;34m\u001B[0m\u001B[0;34m\u001B[0m\u001B[0m\n\u001B[1;32m     39\u001B[0m \u001B[0mviewer\u001B[0m\u001B[0;34m.\u001B[0m\u001B[0mhide_quiver\u001B[0m\u001B[0;34m(\u001B[0m\u001B[0;34m'contacts'\u001B[0m\u001B[0;34m)\u001B[0m\u001B[0;34m\u001B[0m\u001B[0;34m\u001B[0m\u001B[0m\n\u001B[0;32m---> 40\u001B[0;31m \u001B[0mstats\u001B[0m \u001B[0;34m=\u001B[0m \u001B[0msimulation\u001B[0m\u001B[0;34m(\u001B[0m\u001B[0mviewer\u001B[0m\u001B[0;34m,\u001B[0m \u001B[0mengine\u001B[0m\u001B[0;34m,\u001B[0m \u001B[0;32mTrue\u001B[0m\u001B[0;34m)\u001B[0m\u001B[0;34m\u001B[0m\u001B[0;34m\u001B[0m\u001B[0m\n\u001B[0m",
      "\u001B[0;32m<ipython-input-4-9234d3190fe5>\u001B[0m in \u001B[0;36msimulation\u001B[0;34m(viewer, engine, monitor)\u001B[0m\n\u001B[1;32m     30\u001B[0m             \u001B[0mviewer\u001B[0m\u001B[0;34m.\u001B[0m\u001B[0mupdate_mesh\u001B[0m\u001B[0;34m(\u001B[0m\u001B[0mbody\u001B[0m\u001B[0;34m.\u001B[0m\u001B[0mname\u001B[0m\u001B[0;34m,\u001B[0m \u001B[0mbody\u001B[0m\u001B[0;34m.\u001B[0m\u001B[0mx\u001B[0m\u001B[0;34m)\u001B[0m\u001B[0;34m\u001B[0m\u001B[0;34m\u001B[0m\u001B[0m\n\u001B[1;32m     31\u001B[0m         \u001B[0mupdate_contacts\u001B[0m\u001B[0;34m(\u001B[0m\u001B[0mviewer\u001B[0m\u001B[0;34m,\u001B[0m \u001B[0mengine\u001B[0m\u001B[0;34m)\u001B[0m\u001B[0;34m\u001B[0m\u001B[0;34m\u001B[0m\u001B[0m\n\u001B[0;32m---> 32\u001B[0;31m         \u001B[0mdata\u001B[0m \u001B[0;34m=\u001B[0m \u001B[0mSOLVER\u001B[0m\u001B[0;34m.\u001B[0m\u001B[0mstepper\u001B[0m\u001B[0;34m(\u001B[0m\u001B[0mengine\u001B[0m\u001B[0;34m,\u001B[0m \u001B[0mdt\u001B[0m\u001B[0;34m,\u001B[0m \u001B[0mmonitor\u001B[0m\u001B[0;34m)\u001B[0m\u001B[0;34m\u001B[0m\u001B[0;34m\u001B[0m\u001B[0m\n\u001B[0m\u001B[1;32m     33\u001B[0m         \u001B[0mstats\u001B[0m\u001B[0;34m.\u001B[0m\u001B[0mappend\u001B[0m\u001B[0;34m(\u001B[0m\u001B[0mdata\u001B[0m\u001B[0;34m)\u001B[0m\u001B[0;34m\u001B[0m\u001B[0;34m\u001B[0m\u001B[0m\n\u001B[1;32m     34\u001B[0m         \u001B[0mtime\u001B[0m\u001B[0;34m.\u001B[0m\u001B[0msleep\u001B[0m\u001B[0;34m(\u001B[0m\u001B[0mdt\u001B[0m\u001B[0;34m)\u001B[0m\u001B[0;34m\u001B[0m\u001B[0;34m\u001B[0m\u001B[0m\n",
      "\u001B[0;32m~/Documents/GitHub/libisl/python/isl/simulators/prox_soft_bodies/solver.py\u001B[0m in \u001B[0;36mstepper\u001B[0;34m(dt, engine, debug_on)\u001B[0m\n\u001B[1;32m    961\u001B[0m     \u001B[0mstats\u001B[0m \u001B[0;34m=\u001B[0m \u001B[0;34m{\u001B[0m\u001B[0;34m}\u001B[0m\u001B[0;34m\u001B[0m\u001B[0;34m\u001B[0m\u001B[0m\n\u001B[1;32m    962\u001B[0m \u001B[0;34m\u001B[0m\u001B[0m\n\u001B[0;32m--> 963\u001B[0;31m     \u001B[0mx\u001B[0m \u001B[0;34m=\u001B[0m \u001B[0mget_position_vector\u001B[0m\u001B[0;34m(\u001B[0m\u001B[0mengine\u001B[0m\u001B[0;34m)\u001B[0m\u001B[0;34m\u001B[0m\u001B[0;34m\u001B[0m\u001B[0m\n\u001B[0m\u001B[1;32m    964\u001B[0m     \u001B[0mu\u001B[0m \u001B[0;34m=\u001B[0m \u001B[0mget_velocity_vector\u001B[0m\u001B[0;34m(\u001B[0m\u001B[0mengine\u001B[0m\u001B[0;34m)\u001B[0m\u001B[0;34m\u001B[0m\u001B[0;34m\u001B[0m\u001B[0m\n\u001B[1;32m    965\u001B[0m     \u001B[0mFe\u001B[0m \u001B[0;34m=\u001B[0m \u001B[0mcompute_elastic_forces\u001B[0m\u001B[0;34m(\u001B[0m\u001B[0mx\u001B[0m\u001B[0;34m,\u001B[0m \u001B[0mengine\u001B[0m\u001B[0;34m,\u001B[0m \u001B[0mstats\u001B[0m\u001B[0;34m,\u001B[0m \u001B[0mdebug_on\u001B[0m\u001B[0;34m)\u001B[0m\u001B[0;34m\u001B[0m\u001B[0;34m\u001B[0m\u001B[0m\n",
      "\u001B[0;32m~/Documents/GitHub/libisl/python/isl/simulators/prox_soft_bodies/solver.py\u001B[0m in \u001B[0;36mget_position_vector\u001B[0;34m(engine)\u001B[0m\n\u001B[1;32m    601\u001B[0m     \u001B[0;34m:\u001B[0m\u001B[0;32mreturn\u001B[0m\u001B[0;34m:\u001B[0m\u001B[0;34m\u001B[0m\u001B[0;34m\u001B[0m\u001B[0m\n\u001B[1;32m    602\u001B[0m     \"\"\"\n\u001B[0;32m--> 603\u001B[0;31m     \u001B[0mx\u001B[0m \u001B[0;34m=\u001B[0m \u001B[0mnp\u001B[0m\u001B[0;34m.\u001B[0m\u001B[0mzeros\u001B[0m\u001B[0;34m(\u001B[0m\u001B[0;34m(\u001B[0m\u001B[0mengine\u001B[0m\u001B[0;34m.\u001B[0m\u001B[0mnumber_of_nodes\u001B[0m\u001B[0;34m,\u001B[0m \u001B[0;36m3\u001B[0m\u001B[0;34m)\u001B[0m\u001B[0;34m,\u001B[0m \u001B[0mdtype\u001B[0m\u001B[0;34m=\u001B[0m\u001B[0mnp\u001B[0m\u001B[0;34m.\u001B[0m\u001B[0mfloat64\u001B[0m\u001B[0;34m)\u001B[0m\u001B[0;34m\u001B[0m\u001B[0;34m\u001B[0m\u001B[0m\n\u001B[0m\u001B[1;32m    604\u001B[0m     \u001B[0;32mfor\u001B[0m \u001B[0mbody\u001B[0m \u001B[0;32min\u001B[0m \u001B[0mengine\u001B[0m\u001B[0;34m.\u001B[0m\u001B[0mbodies\u001B[0m\u001B[0;34m.\u001B[0m\u001B[0mvalues\u001B[0m\u001B[0;34m(\u001B[0m\u001B[0;34m)\u001B[0m\u001B[0;34m:\u001B[0m\u001B[0;34m\u001B[0m\u001B[0;34m\u001B[0m\u001B[0m\n\u001B[1;32m    605\u001B[0m         \u001B[0mx\u001B[0m\u001B[0;34m[\u001B[0m\u001B[0mbody\u001B[0m\u001B[0;34m.\u001B[0m\u001B[0moffset\u001B[0m\u001B[0;34m:\u001B[0m\u001B[0mbody\u001B[0m\u001B[0;34m.\u001B[0m\u001B[0moffset\u001B[0m\u001B[0;34m+\u001B[0m\u001B[0mlen\u001B[0m\u001B[0;34m(\u001B[0m\u001B[0mbody\u001B[0m\u001B[0;34m.\u001B[0m\u001B[0mx\u001B[0m\u001B[0;34m)\u001B[0m\u001B[0;34m]\u001B[0m \u001B[0;34m=\u001B[0m \u001B[0mbody\u001B[0m\u001B[0;34m.\u001B[0m\u001B[0mx\u001B[0m\u001B[0;34m\u001B[0m\u001B[0;34m\u001B[0m\u001B[0m\n",
      "\u001B[0;31mAttributeError\u001B[0m: 'float' object has no attribute 'number_of_nodes'"
     ]
    }
   ],
   "source": [
    "viewer = VIEWER.Viewer()\n",
    "for body in engine.bodies.values():\n",
    "    opacity = 0.5\n",
    "    color = V3.make(1.0,0.1,0.1)\n",
    "    F = VM.to_triangles(body.T)\n",
    "    viewer.create_mesh(body.name, body.x, F, color, opacity)\n",
    "viewer.create_quiver('contacts')\n",
    "\n",
    "\n",
    "def update_contacts(viewer, engine): \n",
    "    K = len(engine.contact_points)\n",
    "    V = np.zeros((K,3),dtype=np.float64)\n",
    "    N = np.zeros((K,3),dtype=np.float64)\n",
    "    for k in range(K):\n",
    "        V[k,:] = engine.contact_points[k].p\n",
    "        N[k,:] = engine.contact_points[k].n\n",
    "    viewer.update_quiver('contacts', V, N, 2.0)\n",
    "    \n",
    "\n",
    "def simulation(viewer, engine, monitor=True):\n",
    "    stats = []\n",
    "    import time\n",
    "    dt = engine.params.time_step\n",
    "    T  = engine.params.total_time\n",
    "    fps = 1.0/dt\n",
    "    steps = int(np.round(T*fps))\n",
    "    \n",
    "    for i in range(steps):\n",
    "        for body in engine.bodies.values():\n",
    "            viewer.update_mesh(body.name, body.x)\n",
    "        update_contacts(viewer, engine)\n",
    "        data = SOLVER.stepper(engine, dt, monitor)\n",
    "        stats.append(data)\n",
    "        time.sleep(dt)\n",
    "    return stats\n",
    "        \n",
    "engine.params.total_time = 0.005\n",
    "viewer.show()\n",
    "viewer.hide_quiver('contacts')\n",
    "stats = simulation(viewer, engine, True)"
   ]
  },
  {
   "cell_type": "markdown",
   "metadata": {},
   "source": [
    "The stepper function in the SOLVER module is the main work horse of the simulation. It outputs a lot of statistics about the numerics. This data is useful to analyze what happend in the simulation and if the simulator was working or if something unexpected happend.\n",
    "\n",
    "Often one cares about the convergence of the solver. It is not difficult to extract and plot the convergence rates."
   ]
  },
  {
   "cell_type": "code",
   "execution_count": null,
   "metadata": {},
   "outputs": [],
   "source": [
    "import matplotlib.pyplot as plt\n",
    "\n",
    "fig = plt.figure()\n",
    "ax = plt.subplot(111)\n",
    "ax.set_title('Converegence rates')\n",
    "ax.set_xlabel('Iterations')\n",
    "ax.set_ylabel('Merit')\n",
    "plt.grid(True)\n",
    "for i in range(len(stats)):\n",
    "    data = stats[i]\n",
    "    if 'residuals' in data.keys():\n",
    "        residuals = data['residuals']\n",
    "        reject = data['reject']\n",
    "        ax.plot( residuals[np.where(reject==False)])\n",
    "plt.show()"
   ]
  },
  {
   "cell_type": "code",
   "execution_count": 5,
   "metadata": {
    "scrolled": true,
    "pycharm": {
     "name": "#%%\n"
    }
   },
   "outputs": [
    {
     "ename": "NameError",
     "evalue": "name 'stats' is not defined",
     "output_type": "error",
     "traceback": [
      "\u001B[0;31m---------------------------------------------------------------------------\u001B[0m",
      "\u001B[0;31mNameError\u001B[0m                                 Traceback (most recent call last)",
      "\u001B[0;32m<ipython-input-5-dca554e4776f>\u001B[0m in \u001B[0;36m<module>\u001B[0;34m\u001B[0m\n\u001B[1;32m      5\u001B[0m \u001B[0;34m\u001B[0m\u001B[0m\n\u001B[1;32m      6\u001B[0m \u001B[0;34m\u001B[0m\u001B[0m\n\u001B[0;32m----> 7\u001B[0;31m \u001B[0mtime_elastic_forces\u001B[0m \u001B[0;34m=\u001B[0m \u001B[0;34m[\u001B[0m \u001B[0mstats\u001B[0m\u001B[0;34m[\u001B[0m\u001B[0mi\u001B[0m\u001B[0;34m]\u001B[0m\u001B[0;34m[\u001B[0m\u001B[0;34m'compute_elastic_forces'\u001B[0m\u001B[0;34m]\u001B[0m \u001B[0;32mfor\u001B[0m \u001B[0mi\u001B[0m \u001B[0;32min\u001B[0m \u001B[0mrange\u001B[0m\u001B[0;34m(\u001B[0m\u001B[0mlen\u001B[0m\u001B[0;34m(\u001B[0m\u001B[0mstats\u001B[0m\u001B[0;34m)\u001B[0m\u001B[0;34m)\u001B[0m \u001B[0;34m]\u001B[0m\u001B[0;34m\u001B[0m\u001B[0;34m\u001B[0m\u001B[0m\n\u001B[0m\u001B[1;32m      8\u001B[0m \u001B[0mtime_traction_forces\u001B[0m \u001B[0;34m=\u001B[0m \u001B[0;34m[\u001B[0m \u001B[0mstats\u001B[0m\u001B[0;34m[\u001B[0m\u001B[0mi\u001B[0m\u001B[0;34m]\u001B[0m\u001B[0;34m[\u001B[0m\u001B[0;34m'compute_traction_forces'\u001B[0m\u001B[0;34m]\u001B[0m \u001B[0;32mfor\u001B[0m \u001B[0mi\u001B[0m \u001B[0;32min\u001B[0m \u001B[0mrange\u001B[0m\u001B[0;34m(\u001B[0m\u001B[0mlen\u001B[0m\u001B[0;34m(\u001B[0m\u001B[0mstats\u001B[0m\u001B[0;34m)\u001B[0m\u001B[0;34m)\u001B[0m \u001B[0;34m]\u001B[0m\u001B[0;34m\u001B[0m\u001B[0;34m\u001B[0m\u001B[0m\n\u001B[1;32m      9\u001B[0m \u001B[0mtime_damping_forces\u001B[0m \u001B[0;34m=\u001B[0m \u001B[0;34m[\u001B[0m \u001B[0mstats\u001B[0m\u001B[0;34m[\u001B[0m\u001B[0mi\u001B[0m\u001B[0;34m]\u001B[0m\u001B[0;34m[\u001B[0m\u001B[0;34m'compute_damping_forces'\u001B[0m\u001B[0;34m]\u001B[0m \u001B[0;32mfor\u001B[0m \u001B[0mi\u001B[0m \u001B[0;32min\u001B[0m \u001B[0mrange\u001B[0m\u001B[0;34m(\u001B[0m\u001B[0mlen\u001B[0m\u001B[0;34m(\u001B[0m\u001B[0mstats\u001B[0m\u001B[0;34m)\u001B[0m\u001B[0;34m)\u001B[0m \u001B[0;34m]\u001B[0m\u001B[0;34m\u001B[0m\u001B[0;34m\u001B[0m\u001B[0m\n",
      "\u001B[0;31mNameError\u001B[0m: name 'stats' is not defined"
     ]
    }
   ],
   "source": [
    "colors = ['#e6194b', '#3cb44b', '#ffe119', '#4363d8', '#f58231', '#911eb4',\n",
    "          '#46f0f0', '#f032e6', '#bcf60c', '#fabebe', '#008080', '#e6beff',\n",
    "          '#9a6324', '#fffac8', '#800000', '#aaffc3', '#808000', '#ffd8b1',\n",
    "          '#000075', '#808080', '#ffffff', '#000000']\n",
    "\n",
    "\n",
    "time_elastic_forces = [ stats[i]['compute_elastic_forces'] for i in range(len(stats)) ]\n",
    "time_traction_forces = [ stats[i]['compute_traction_forces'] for i in range(len(stats)) ]\n",
    "time_damping_forces = [ stats[i]['compute_damping_forces'] for i in range(len(stats)) ]\n",
    "time_external_forces = [ stats[i]['compute_external_forces'] for i in range(len(stats)) ]\n",
    "time_mass_matrix = [ stats[i]['compute_mass_matrix'] for i in range(len(stats)) ]\n",
    "time_inverse_mass_matrix = [ stats[i]['compute_inverse_mass_matrix'] for i in range(len(stats)) ]\n",
    "time_update_bvh = [ stats[i]['update_bvh'] for i in range(len(stats)) ]\n",
    "time_narrow_phase = [ stats[i]['narrow_phase'] for i in range(len(stats)) ]\n",
    "time_contact_determination = [ stats[i]['contact_determination'] for i in range(len(stats)) ]\n",
    "time_contact_point_reduction = [ stats[i]['contact_point_reduction'] for i in range(len(stats)) ]\n",
    "time_collision_detection = [ stats[i]['collision_detection_time'] for i in range(len(stats)) ]\n",
    "time_stepper = [ stats[i]['stepper_time'] for i in range(len(stats)) ]\n",
    "time_kinetic_energy = [ stats[i]['compute_kinetic_energy'] for i in range(len(stats)) ]\n",
    "time_poential_energy = [ stats[i]['compute_potential_energy'] for i in range(len(stats)) ]\n",
    "time_elastic_energy = [ stats[i]['compute_elastic_energy'] for i in range(len(stats)) ]\n",
    "\n",
    "fig = plt.figure()\n",
    "ax = plt.subplot(111)\n",
    "ax.set_title('Profiling Timings')\n",
    "ax.set_xlabel('Step')\n",
    "ax.set_ylabel('Time [s]')\n",
    "plt.grid(True)\n",
    "ax.plot(time_elastic_forces, label='Elastic forces', color=colors[0])\n",
    "ax.plot(time_traction_forces, label='Traction forces', color=colors[1])\n",
    "ax.plot(time_damping_forces, label='Damping forces', color=colors[2])\n",
    "ax.plot(time_external_forces, label='External forces', color=colors[3])\n",
    "ax.plot(time_mass_matrix, label='Mass matrix', color=colors[4])\n",
    "ax.plot(time_inverse_mass_matrix, label='Inverse mass', color=colors[5])\n",
    "ax.plot(time_update_bvh, label='Update bvh', color=colors[6])\n",
    "ax.plot(time_narrow_phase, label='Narrow phase', color=colors[7])\n",
    "ax.plot(time_contact_determination, label='Contact determination', color=colors[8])\n",
    "ax.plot(time_contact_point_reduction, label='Contact reduction', color=colors[9])\n",
    "ax.plot(time_collision_detection, label='Collision Detection', color=colors[10])\n",
    "ax.plot(time_stepper, label='Stepper', color=colors[11])\n",
    "ax.plot(time_kinetic_energy, label='Kinetic', color=colors[12])\n",
    "ax.plot(time_poential_energy, label='Potential', color=colors[13])\n",
    "ax.plot(time_elastic_energy, label='Elastic', color=colors[14])\n",
    "ax.legend()\n",
    "plt.show()\n",
    "\n",
    "number_of_overlaps = [ stats[i]['number_of_overlaps'] for i in range(len(stats)) ]\n",
    "step_sizes = [ stats[i]['dt'] for i in range(len(stats)) ]\n",
    "number_of_contact_points = [ stats[i]['contact_points'] for i in range(len(stats)) ]\n",
    "elastic_energy = [ stats[i]['elastic_energy'] for i in range(len(stats)) ]\n",
    "kinetic_energy = [ stats[i]['elastic_energy'] for i in range(len(stats)) ]\n",
    "potential_energy = [ stats[i]['elastic_energy'] for i in range(len(stats)) ]\n",
    "penetrations = [ stats[i]['max_penetration'] for i in range(len(stats)) ]\n",
    "\n",
    "fig = plt.figure()\n",
    "ax = plt.subplot(111)\n",
    "ax.set_title('Profiling data')\n",
    "ax.set_xlabel('Step')\n",
    "ax.set_ylabel('Value')\n",
    "plt.grid(True)\n",
    "ax.plot(number_of_overlaps, label='Overlaps', color=colors[0])\n",
    "ax.plot(step_sizes, label='Stepsize', color=colors[1])\n",
    "ax.plot(number_of_contact_points, label='Contacts', color=colors[2])\n",
    "ax.plot(elastic_energy, label='Elastic Energy', color=colors[3])\n",
    "ax.plot(kinetic_energy, label='Kinetic Energy', color=colors[4])\n",
    "ax.plot(potential_energy, label='Potential Energy', color=colors[5])\n",
    "ax.plot(penetrations, label='Penetrations', color=colors[6])\n",
    "ax.legend()\n",
    "plt.show()"
   ]
  },
  {
   "cell_type": "code",
   "execution_count": null,
   "outputs": [],
   "source": [],
   "metadata": {
    "collapsed": false,
    "pycharm": {
     "name": "#%%\n"
    }
   }
  }
 ],
 "metadata": {
  "kernelspec": {
   "display_name": "Python 3",
   "language": "python",
   "name": "python3"
  },
  "language_info": {
   "codemirror_mode": {
    "name": "ipython",
    "version": 3
   },
   "file_extension": ".py",
   "mimetype": "text/x-python",
   "name": "python",
   "nbconvert_exporter": "python",
   "pygments_lexer": "ipython3",
   "version": "3.9.2"
  }
 },
 "nbformat": 4,
 "nbformat_minor": 4
}