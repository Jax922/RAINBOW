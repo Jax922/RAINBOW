{
 "cells": [
  {
   "cell_type": "markdown",
   "metadata": {},
   "source": [
    "# Demo of API usage of the Prox Rigid Body Simulator Procedural API"
   ]
  },
  {
   "cell_type": "code",
   "execution_count": 1,
   "metadata": {},
   "outputs": [],
   "source": [
    "%matplotlib widget"
   ]
  },
  {
   "cell_type": "markdown",
   "metadata": {},
   "source": [
    "First we make sure to import all modules that is needed."
   ]
  },
  {
   "cell_type": "code",
   "execution_count": 2,
   "metadata": {},
   "outputs": [],
   "source": [
    "import numpy as np\n",
    "import isl.math.vector3 as V3\n",
    "import isl.math.quaternion as Q\n",
    "import isl.simulators.prox_rigid_bodies.api as API\n",
    "import isl.simulators.prox_rigid_bodies.solver as SOLVER\n",
    "import isl.simulators.prox_rigid_bodies.procedural as PROC\n",
    "import isl.util.viewer as VIEWER"
   ]
  },
  {
   "cell_type": "markdown",
   "metadata": {},
   "source": [
    "First we need a rigid body engine"
   ]
  },
  {
   "cell_type": "code",
   "execution_count": 3,
   "metadata": {
    "scrolled": true
   },
   "outputs": [],
   "source": [
    "engine = API.Engine()"
   ]
  },
  {
   "cell_type": "markdown",
   "metadata": {},
   "source": [
    "Second we create a scene using our subset of procedural generation methods. These makes it easy to quickly setup an environment in the same way, and they provide one with easy controllable parameterss for changing the loock and feel as well as the size of the scene being simulated."
   ]
  },
  {
   "cell_type": "code",
   "execution_count": 4,
   "metadata": {},
   "outputs": [],
   "source": [
    "PROC.create_ground(engine, V3.zero(), Q.identity(), density=1.0, material_name='default');"
   ]
  },
  {
   "cell_type": "code",
   "execution_count": 5,
   "metadata": {},
   "outputs": [],
   "source": [
    "PROC.create_pillar(engine,\n",
    "                  r = V3.zero(),\n",
    "                  q = Q.identity(),\n",
    "                  width = 1.0,\n",
    "                  height = 5.0,\n",
    "                  depth = 1.0,\n",
    "                  stones = 3,\n",
    "                  density=1.0,\n",
    "                  material_name='default'\n",
    "                  );"
   ]
  },
  {
   "cell_type": "code",
   "execution_count": 6,
   "metadata": {},
   "outputs": [],
   "source": [
    "PROC.create_arch(engine,\n",
    "                 r = V3.zero(),\n",
    "                 q = Q.identity(),\n",
    "                 width = 2.0,\n",
    "                 height = 3.0,\n",
    "                 depth = 0.5,\n",
    "                 pier_stones=3,\n",
    "                 arch_stones=5,\n",
    "                 density = 1.0,\n",
    "                 material_name='default'\n",
    "                );"
   ]
  },
  {
   "cell_type": "code",
   "execution_count": 7,
   "metadata": {},
   "outputs": [],
   "source": [
    "PROC.create_dome(engine,\n",
    "                 r = V3.zero(),\n",
    "                 q = Q.identity(),\n",
    "                 outer_radius = 5.0,\n",
    "                 inner_radius = 4.0,\n",
    "                 layers = 4,\n",
    "                 segments = 11,\n",
    "                 density = 1.0,\n",
    "                 material_name = 'default'\n",
    "                );"
   ]
  },
  {
   "cell_type": "code",
   "execution_count": 8,
   "metadata": {},
   "outputs": [],
   "source": [
    "PROC.create_tower(engine,\n",
    "                  r = V3.zero(),\n",
    "                  q = Q.identity(),\n",
    "                  outer_radius = 5.0,\n",
    "                  inner_radius = 4.0,\n",
    "                  height = 8.0,\n",
    "                  layers = 6,\n",
    "                  segments = 11,\n",
    "                  use_cubes = False,\n",
    "                  density = 1.0,\n",
    "                  material_name = 'default'\n",
    "                 );"
   ]
  },
  {
   "cell_type": "code",
   "execution_count": 9,
   "metadata": {},
   "outputs": [],
   "source": [
    "PROC.create_colosseum(engine,\n",
    "                      r = V3.zero(),\n",
    "                      q = Q.identity(),\n",
    "                      outer_radius = 5.0,\n",
    "                      inner_radius = 4.0,\n",
    "                      height = 7.0,\n",
    "                      levels = 3,\n",
    "                      arches = 12,\n",
    "                      density = 1.0,\n",
    "                      material_name = 'default'\n",
    "                     );"
   ]
  },
  {
   "cell_type": "code",
   "execution_count": 10,
   "metadata": {},
   "outputs": [],
   "source": [
    "PROC.create_pantheon(engine,\n",
    "                     r = V3.zero(),\n",
    "                     q = Q.identity(),\n",
    "                     outer_radius = 5.0,\n",
    "                     inner_radius = 4.0,\n",
    "                     height = 8.0,\n",
    "                     layers=4,\n",
    "                     segments=11,\n",
    "                     density=1.0,\n",
    "                     material_name='default'\n",
    "                    );"
   ]
  },
  {
   "cell_type": "code",
   "execution_count": 11,
   "metadata": {},
   "outputs": [],
   "source": [
    "PROC.create_funnel(engine,\n",
    "                   funnel_height = 4.0,\n",
    "                   funnel_radius = 4.0,\n",
    "                   grid_width = 2.0,\n",
    "                   grid_height = 2.0,\n",
    "                   grid_depth = 2.0,\n",
    "                   I = 4,\n",
    "                   J = 4,\n",
    "                   K = 4,\n",
    "                   density = 1.0,\n",
    "                   material_name='default'\n",
    "                  );"
   ]
  },
  {
   "cell_type": "code",
   "execution_count": 12,
   "metadata": {},
   "outputs": [],
   "source": [
    "PROC.create_glasses(engine,\n",
    "                   glass_height = 4.0,\n",
    "                   glass_radius = 2.0,\n",
    "                   grid_width = 3.0,\n",
    "                   grid_height = 3.0,\n",
    "                   grid_depth = 3.0,\n",
    "                   I=4,\n",
    "                   J=4,\n",
    "                   K=4,\n",
    "                   density=1.0,\n",
    "                   material_name='default'\n",
    "                   );"
   ]
  },
  {
   "cell_type": "code",
   "execution_count": 13,
   "metadata": {},
   "outputs": [],
   "source": [
    "PROC.create_poles(engine,\n",
    "                 pole_height = 2.0,\n",
    "                 pole_radius = 0.1,\n",
    "                 I_poles = 6,\n",
    "                 K_poles = 6,\n",
    "                 grid_width = 4.0,\n",
    "                 grid_height = 4.0,\n",
    "                 grid_depth = 4.0,\n",
    "                 I_grid = 4,\n",
    "                 J_grid = 4,\n",
    "                 K_grid = 4,\n",
    "                 density = 1.0,\n",
    "                 material_name = 'default'\n",
    "                 );"
   ]
  },
  {
   "cell_type": "code",
   "execution_count": 14,
   "metadata": {},
   "outputs": [
    {
     "ename": "ImportError",
     "evalue": "dlopen(/Users/kenny/opt/anaconda3/envs/cmis/lib/python3.9/site-packages/pyhull/_pyhull.cpython-39-darwin.so, 2): Library not loaded: @rpath/libqhull.7.dylib\n  Referenced from: /Users/kenny/opt/anaconda3/envs/cmis/lib/python3.9/site-packages/pyhull/_pyhull.cpython-39-darwin.so\n  Reason: image not found",
     "output_type": "error",
     "traceback": [
      "\u001B[0;31m---------------------------------------------------------------------------\u001B[0m",
      "\u001B[0;31mImportError\u001B[0m                               Traceback (most recent call last)",
      "\u001B[0;32m<ipython-input-14-dd89c57afd4b>\u001B[0m in \u001B[0;36m<module>\u001B[0;34m\u001B[0m\n\u001B[0;32m----> 1\u001B[0;31m PROC.create_temple(engine,\n\u001B[0m\u001B[1;32m      2\u001B[0m                   \u001B[0mI_pillars\u001B[0m \u001B[0;34m=\u001B[0m \u001B[0;36m4\u001B[0m\u001B[0;34m,\u001B[0m\u001B[0;34m\u001B[0m\u001B[0;34m\u001B[0m\u001B[0m\n\u001B[1;32m      3\u001B[0m                   \u001B[0mK_pillars\u001B[0m \u001B[0;34m=\u001B[0m \u001B[0;36m7\u001B[0m\u001B[0;34m,\u001B[0m\u001B[0;34m\u001B[0m\u001B[0;34m\u001B[0m\u001B[0m\n\u001B[1;32m      4\u001B[0m                   \u001B[0mpillar_width\u001B[0m \u001B[0;34m=\u001B[0m \u001B[0;36m1.0\u001B[0m\u001B[0;34m,\u001B[0m\u001B[0;34m\u001B[0m\u001B[0;34m\u001B[0m\u001B[0m\n\u001B[1;32m      5\u001B[0m                   \u001B[0mpillar_height\u001B[0m \u001B[0;34m=\u001B[0m \u001B[0;36m3.0\u001B[0m\u001B[0;34m,\u001B[0m\u001B[0;34m\u001B[0m\u001B[0;34m\u001B[0m\u001B[0m\n",
      "\u001B[0;32m~/Documents/GitHub/libisl/python/isl/simulators/prox_rigid_bodies/procedural.py\u001B[0m in \u001B[0;36mcreate_temple\u001B[0;34m(engine, I_pillars, K_pillars, pillar_width, pillar_height, pillar_depth, pillar_stones, density, material_name)\u001B[0m\n\u001B[1;32m   1156\u001B[0m     \u001B[0mp9\u001B[0m \u001B[0;34m=\u001B[0m \u001B[0mp4\u001B[0m \u001B[0;34m-\u001B[0m \u001B[0mV3\u001B[0m\u001B[0;34m.\u001B[0m\u001B[0mmake\u001B[0m\u001B[0;34m(\u001B[0m\u001B[0;36m0.0\u001B[0m\u001B[0;34m,\u001B[0m \u001B[0mepistyle_height\u001B[0m\u001B[0;34m,\u001B[0m \u001B[0;36m0.0\u001B[0m\u001B[0;34m)\u001B[0m\u001B[0;34m\u001B[0m\u001B[0;34m\u001B[0m\u001B[0m\n\u001B[1;32m   1157\u001B[0m \u001B[0;34m\u001B[0m\u001B[0m\n\u001B[0;32m-> 1158\u001B[0;31m     \u001B[0mV\u001B[0m\u001B[0;34m,\u001B[0m \u001B[0mT\u001B[0m \u001B[0;34m=\u001B[0m \u001B[0mMESH\u001B[0m\u001B[0;34m.\u001B[0m\u001B[0mcreate_convex_hull\u001B[0m\u001B[0;34m(\u001B[0m\u001B[0;34m[\u001B[0m\u001B[0mp0\u001B[0m\u001B[0;34m,\u001B[0m \u001B[0mp1\u001B[0m\u001B[0;34m,\u001B[0m \u001B[0mp2\u001B[0m\u001B[0;34m,\u001B[0m \u001B[0mp3\u001B[0m\u001B[0;34m,\u001B[0m \u001B[0mp4\u001B[0m\u001B[0;34m,\u001B[0m \u001B[0mp5\u001B[0m\u001B[0;34m,\u001B[0m \u001B[0mp6\u001B[0m\u001B[0;34m,\u001B[0m \u001B[0mp7\u001B[0m\u001B[0;34m,\u001B[0m \u001B[0mp8\u001B[0m\u001B[0;34m,\u001B[0m \u001B[0mp9\u001B[0m\u001B[0;34m]\u001B[0m\u001B[0;34m)\u001B[0m\u001B[0;34m\u001B[0m\u001B[0;34m\u001B[0m\u001B[0m\n\u001B[0m\u001B[1;32m   1159\u001B[0m     \u001B[0mmesh\u001B[0m \u001B[0;34m=\u001B[0m \u001B[0mAPI\u001B[0m\u001B[0;34m.\u001B[0m\u001B[0mcreate_mesh\u001B[0m\u001B[0;34m(\u001B[0m\u001B[0mV\u001B[0m\u001B[0;34m,\u001B[0m \u001B[0mT\u001B[0m\u001B[0;34m)\u001B[0m\u001B[0;34m\u001B[0m\u001B[0;34m\u001B[0m\u001B[0m\n\u001B[1;32m   1160\u001B[0m     \u001B[0mAPI\u001B[0m\u001B[0;34m.\u001B[0m\u001B[0mcreate_shape\u001B[0m\u001B[0;34m(\u001B[0m\u001B[0mengine\u001B[0m\u001B[0;34m,\u001B[0m \u001B[0mshape_name\u001B[0m\u001B[0;34m,\u001B[0m \u001B[0mmesh\u001B[0m\u001B[0;34m)\u001B[0m\u001B[0;34m\u001B[0m\u001B[0;34m\u001B[0m\u001B[0m\n",
      "\u001B[0;32m~/Documents/GitHub/libisl/python/isl/geometry/surface_mesh.py\u001B[0m in \u001B[0;36mcreate_convex_hull\u001B[0;34m(points)\u001B[0m\n\u001B[1;32m    335\u001B[0m     \"\"\"\n\u001B[1;32m    336\u001B[0m     \u001B[0;31m# TODO 2021-05-08 Kenny: Replace with libigl functionality when available in python.\u001B[0m\u001B[0;34m\u001B[0m\u001B[0;34m\u001B[0m\u001B[0;34m\u001B[0m\u001B[0m\n\u001B[0;32m--> 337\u001B[0;31m     \u001B[0;32mfrom\u001B[0m \u001B[0mpyhull\u001B[0m\u001B[0;34m.\u001B[0m\u001B[0mconvex_hull\u001B[0m \u001B[0;32mimport\u001B[0m \u001B[0mConvexHull\u001B[0m\u001B[0;34m\u001B[0m\u001B[0;34m\u001B[0m\u001B[0m\n\u001B[0m\u001B[1;32m    338\u001B[0m     \u001B[0mH\u001B[0m \u001B[0;34m=\u001B[0m \u001B[0mConvexHull\u001B[0m\u001B[0;34m(\u001B[0m\u001B[0mpoints\u001B[0m\u001B[0;34m)\u001B[0m\u001B[0;34m\u001B[0m\u001B[0;34m\u001B[0m\u001B[0m\n\u001B[1;32m    339\u001B[0m     \u001B[0mN\u001B[0m \u001B[0;34m=\u001B[0m \u001B[0mlen\u001B[0m\u001B[0;34m(\u001B[0m\u001B[0mH\u001B[0m\u001B[0;34m.\u001B[0m\u001B[0mpoints\u001B[0m\u001B[0;34m)\u001B[0m    \u001B[0;31m# Number of vertices\u001B[0m\u001B[0;34m\u001B[0m\u001B[0;34m\u001B[0m\u001B[0m\n",
      "\u001B[0;32m~/opt/anaconda3/envs/cmis/lib/python3.9/site-packages/pyhull/__init__.py\u001B[0m in \u001B[0;36m<module>\u001B[0;34m\u001B[0m\n\u001B[1;32m     14\u001B[0m \u001B[0;34m\u001B[0m\u001B[0m\n\u001B[1;32m     15\u001B[0m \u001B[0;34m\u001B[0m\u001B[0m\n\u001B[0;32m---> 16\u001B[0;31m \u001B[0;32mimport\u001B[0m \u001B[0mpyhull\u001B[0m\u001B[0;34m.\u001B[0m\u001B[0m_pyhull\u001B[0m \u001B[0;32mas\u001B[0m \u001B[0mhull\u001B[0m\u001B[0;34m\u001B[0m\u001B[0;34m\u001B[0m\u001B[0m\n\u001B[0m\u001B[1;32m     17\u001B[0m \u001B[0;34m\u001B[0m\u001B[0m\n\u001B[1;32m     18\u001B[0m \u001B[0;34m\u001B[0m\u001B[0m\n",
      "\u001B[0;31mImportError\u001B[0m: dlopen(/Users/kenny/opt/anaconda3/envs/cmis/lib/python3.9/site-packages/pyhull/_pyhull.cpython-39-darwin.so, 2): Library not loaded: @rpath/libqhull.7.dylib\n  Referenced from: /Users/kenny/opt/anaconda3/envs/cmis/lib/python3.9/site-packages/pyhull/_pyhull.cpython-39-darwin.so\n  Reason: image not found"
     ]
    }
   ],
   "source": [
    "PROC.create_temple(engine,\n",
    "                  I_pillars = 4,\n",
    "                  K_pillars = 7,\n",
    "                  pillar_width = 1.0,\n",
    "                  pillar_height = 3.0,\n",
    "                  pillar_depth = 1.0,\n",
    "                  pillar_stones = 3,\n",
    "                  density = 1.0,\n",
    "                  material_name = 'default'\n",
    "                  );"
   ]
  },
  {
   "cell_type": "markdown",
   "metadata": {},
   "source": [
    "Next we create a viewer object that will be responsible for showing the procedural generated scene."
   ]
  },
  {
   "cell_type": "code",
   "execution_count": 8,
   "metadata": {},
   "outputs": [
    {
     "data": {
      "application/vnd.jupyter.widget-view+json": {
       "model_id": "48fb5beac3d04727815dcd444124299b",
       "version_major": 2,
       "version_minor": 0
      },
      "text/plain": [
       "Renderer(camera=PerspectiveCamera(aspect=1.25, children=(DirectionalLight(color='white', intensity=0.6, positi…"
      ]
     },
     "metadata": {},
     "output_type": "display_data"
    }
   ],
   "source": [
    "viewer = VIEWER.Viewer()\n",
    "for body in engine.bodies.values():\n",
    "    opacity = 0.5\n",
    "    color = V3.make(1.0,0.1,0.1)\n",
    "    viewer.create_mesh(body.name, body.shape.mesh.V, body.shape.mesh.T, color, opacity)\n",
    "    viewer.place_mesh(body.name, body.r, body.q)\n",
    "    \n",
    "viewer.show()"
   ]
  },
  {
   "cell_type": "markdown",
   "metadata": {},
   "source": [
    "Finally we can run the simulation"
   ]
  },
  {
   "cell_type": "code",
   "execution_count": null,
   "metadata": {},
   "outputs": [],
   "source": [
    "def simulation(viewer, engine, monitor=True):\n",
    "    stats = []\n",
    "    import time\n",
    "    dt = engine.params.time_step\n",
    "    T  = engine.params.total_time\n",
    "    fps = 1.0/dt\n",
    "    steps = int(np.round(T*fps))\n",
    "    \n",
    "    for i in range(steps):\n",
    "        for body in engine.bodies.values():\n",
    "            viewer.place_mesh(body.name, body.r, body.q)\n",
    "        data = SOLVER.stepper(engine, dt, monitor)\n",
    "        stats.append(data)\n",
    "        time.sleep(dt*10)\n",
    "    return stats\n",
    "        \n",
    "engine.params.total_time = 0.1\n",
    "simulation(viewer, engine, True)"
   ]
  }
 ],
 "metadata": {
  "kernelspec": {
   "display_name": "Python 3",
   "language": "python",
   "name": "python3"
  },
  "language_info": {
   "codemirror_mode": {
    "name": "ipython",
    "version": 3
   },
   "file_extension": ".py",
   "mimetype": "text/x-python",
   "name": "python",
   "nbconvert_exporter": "python",
   "pygments_lexer": "ipython3",
   "version": "3.9.2"
  }
 },
 "nbformat": 4,
 "nbformat_minor": 4
}