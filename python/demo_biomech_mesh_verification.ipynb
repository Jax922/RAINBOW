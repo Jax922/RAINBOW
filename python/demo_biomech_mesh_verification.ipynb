{
 "cells": [
  {
   "cell_type": "code",
   "execution_count": null,
   "id": "4fab8eb2",
   "metadata": {},
   "outputs": [],
   "source": [
    "import isl.biomech.mesh_tools as MT\n",
    "import isl.geometry.volume_mesh_wildmesh as WM\n",
    "import isl.geometry.volume_mesh as VM\n",
    "import isl.geometry.surface_mesh as SURF\n",
    "import meshplot as mp\n",
    "import numpy as np"
   ]
  },
  {
   "cell_type": "markdown",
   "id": "808d22ca",
   "metadata": {},
   "source": [
    "# Demo of mesh verification procedure"
   ]
  },
  {
   "cell_type": "markdown",
   "id": "6ce9f9a3",
   "metadata": {},
   "source": [
    "### Creating test data"
   ]
  },
  {
   "cell_type": "code",
   "execution_count": null,
   "id": "f97b594e",
   "metadata": {},
   "outputs": [],
   "source": [
    "# First we create a surface mesh of a sphere\n",
    "V, F = SURF.create_sphere(1,15,15)\n",
    "# Next we make a volume mesh from the surface mesh of the sphere\n",
    "VT, T = WM.create_mesh(V, F, WM.Options())"
   ]
  },
  {
   "cell_type": "code",
   "execution_count": null,
   "id": "a4b16f0e",
   "metadata": {},
   "outputs": [],
   "source": [
    "# Surface sphere on the left\n",
    "sphere_plot = mp.subplot(V, F, shading={\"wireframe\":True}, s=[1,2,0])\n",
    "# Volume sphere on the right\n",
    "mp.subplot(VT, T, s=[1,2,1], shading={\"wireframe\":True}, data=sphere_plot)"
   ]
  },
  {
   "cell_type": "markdown",
   "id": "3ac3bb64",
   "metadata": {},
   "source": [
    "### Verifying the test data\n",
    "Notice how verification of surface and volume meshes are handled automatically"
   ]
  },
  {
   "cell_type": "code",
   "execution_count": null,
   "id": "66518344",
   "metadata": {},
   "outputs": [],
   "source": [
    "# Verify surface mesh\n",
    "MT.verify_mesh(V, F)"
   ]
  },
  {
   "cell_type": "code",
   "execution_count": null,
   "id": "616be3e8",
   "metadata": {},
   "outputs": [],
   "source": [
    "# Verify volume mesh\n",
    "MT.verify_mesh(VT, T)"
   ]
  },
  {
   "cell_type": "markdown",
   "id": "b445e851",
   "metadata": {},
   "source": [
    "### Verifying 'unclean' mesh\n",
    "Let us try and create a situation in which the verification procedure complains:\n",
    "This can be done by e.g. flipping the orientation of the elements in the volume mesh."
   ]
  },
  {
   "cell_type": "code",
   "execution_count": null,
   "id": "ab794b90",
   "metadata": {},
   "outputs": [],
   "source": [
    "T_flipped = np.copy(T)\n",
    "# Flip orientation by interchanging two points in every tet\n",
    "T_flipped[:,[0,1]] = T_flipped[:,[1,0]]\n",
    "\n",
    "# Verify volume mesh with flipped orientation\n",
    "MT.verify_mesh(VT, T_flipped)"
   ]
  },
  {
   "cell_type": "markdown",
   "id": "7da65593",
   "metadata": {},
   "source": [
    "Or in the surface mesh"
   ]
  },
  {
   "cell_type": "code",
   "execution_count": null,
   "id": "225239b0",
   "metadata": {},
   "outputs": [],
   "source": [
    "F_flipped = np.copy(F)\n",
    "# Flip orientation by interchanging two points in the first triangle\n",
    "F_flipped[0,[0,1]] = F_flipped[0,[1,0]]\n",
    "\n",
    "# Verify volume mesh with flipped orientation\n",
    "MT.verify_mesh(V, F_flipped)"
   ]
  },
  {
   "cell_type": "markdown",
   "id": "0ea395fa",
   "metadata": {},
   "source": [
    "And here we create a non-manifold mesh and verify it"
   ]
  },
  {
   "cell_type": "code",
   "execution_count": null,
   "id": "1c6dd7d4",
   "metadata": {},
   "outputs": [],
   "source": [
    "V = np.array([[1., 0., 0.],\n",
    "              [0., 1., 0.],\n",
    "              [0., 0., 1.],\n",
    "              [1., 1., 1.],\n",
    "              [1., 1., 2.],\n",
    "              [2., 1., 2.],\n",
    "              [2., 2., 1.]])\n",
    "\n",
    "T = np.array([[0,1,2,3],\n",
    "              [3,4,5,6]])\n",
    "\n",
    "p = mp.plot(V, T,shading={\"wireframe\":True},return_plot=True)"
   ]
  },
  {
   "cell_type": "code",
   "execution_count": null,
   "id": "bcd949dc",
   "metadata": {},
   "outputs": [],
   "source": [
    "MT.verify_mesh(V, T)"
   ]
  },
  {
   "cell_type": "code",
   "execution_count": null,
   "id": "1cfebf5c",
   "metadata": {},
   "outputs": [],
   "source": []
  }
 ],
 "metadata": {
  "kernelspec": {
   "display_name": "Python 3",
   "language": "python",
   "name": "python3"
  },
  "language_info": {
   "codemirror_mode": {
    "name": "ipython",
    "version": 3
   },
   "file_extension": ".py",
   "mimetype": "text/x-python",
   "name": "python",
   "nbconvert_exporter": "python",
   "pygments_lexer": "ipython3",
   "version": "3.6.5"
  }
 },
 "nbformat": 4,
 "nbformat_minor": 5
}
