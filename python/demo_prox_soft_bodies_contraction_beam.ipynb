{
 "cells": [
  {
   "cell_type": "markdown",
   "metadata": {},
   "source": [
    "# Demo of Prox Soft Body Simulator: Contraction"
   ]
  },
  {
   "cell_type": "code",
   "execution_count": 1,
   "metadata": {},
   "outputs": [],
   "source": [
    "%matplotlib widget"
   ]
  },
  {
   "cell_type": "markdown",
   "metadata": {},
   "source": [
    "First we make sure to import all modules that is needed."
   ]
  },
  {
   "cell_type": "code",
   "execution_count": 2,
   "metadata": {},
   "outputs": [],
   "source": [
    "import numpy as np\n",
    "import isl.math.vector3 as V3\n",
    "import isl.geometry.volume_mesh as VM\n",
    "import isl.simulators.prox_soft_bodies.api as API\n",
    "import isl.simulators.prox_soft_bodies.solver as SOLVER\n",
    "import isl.util.viewer as VIEWER"
   ]
  },
  {
   "cell_type": "markdown",
   "metadata": {},
   "source": [
    "Second we set up a test scene using a simple beam shape. In this setup all external forces are turned off, no gravity or damping forces, only elastic forces are effective. The beam is initially at rest and initialized with an initial deformation forcing it to contract along the x-axis. Hence, we should expect to see a beam that will oscillate in \"width\" when simulation starts."
   ]
  },
  {
   "cell_type": "code",
   "execution_count": 3,
   "metadata": {},
   "outputs": [],
   "source": [
    "V, T = VM.create_beam(7, 7, 7, 1.0, 1.0, 1.0)\n",
    "\n",
    "engine = API.Engine()\n",
    "engine.params.total_time = 0.5\n",
    "engine.params.time_step = 0.001\n",
    "\n",
    "API.create_material(engine, 'mat')\n",
    "API.set_elasticity(engine, 'mat', 100000.0, 0.3)\n",
    "API.set_mass_density(engine, 'mat', 500.0)\n",
    "API.set_constitutive_model(engine, 'mat', API.SVK)\n",
    "API.set_viscosity(engine, 'mat', 0.0)   # No viscosity forces\n",
    "API.create_surfaces_interaction(engine,'mat','mat', 0.5)\n",
    "\n",
    "API.create_soft_body(engine, 'cube', V, T)\n",
    "API.set_type(engine, 'cube', 'Free')\n",
    "API.set_gravity(engine, 'cube', (0,0,0))  #No gravity forces\n",
    "API.set_material(engine,'cube','mat')\n",
    "\n",
    "# Create an initial deformation, so beam will contract it self along x-axis.\n",
    "x = API.get_material_coordinates(engine, 'cube')\n",
    "x[:,0] = 1.2*x[:,0]\n",
    "API.set_spatial_coordinates(engine,'cube',x)"
   ]
  },
  {
   "cell_type": "markdown",
   "metadata": {},
   "source": [
    "Next we create a viewer object that will be responsible for showing the animation. We need an auxiliary function that can take contact point data out of the engine and into the viewer.\n",
    "\n",
    "Once we got this in place then we can create a simulation loop and start the simulation."
   ]
  },
  {
   "cell_type": "code",
   "execution_count": null,
   "metadata": {},
   "outputs": [
    {
     "name": "stderr",
     "output_type": "stream",
     "text": [
      "/Users/kenny/opt/anaconda3/envs/cmis/lib/python3.9/site-packages/jupyter_client/session.py:716: UserWarning: Message serialization failed with:\n",
      "Out of range float values are not JSON compliant\n",
      "Supporting this message is deprecated in jupyter-client 7, please make sure your message is JSON-compliant\n",
      "  content = self.pack(content)\n"
     ]
    },
    {
     "data": {
      "application/vnd.jupyter.widget-view+json": {
       "model_id": "3841dd38097d4fb1ace43e2f070f2d90",
       "version_major": 2,
       "version_minor": 0
      },
      "text/plain": [
       "Renderer(camera=PerspectiveCamera(aspect=1.25, children=(DirectionalLight(color='white', intensity=0.6, positi…"
      ]
     },
     "metadata": {},
     "output_type": "display_data"
    },
    {
     "name": "stderr",
     "output_type": "stream",
     "text": [
      "/Users/kenny/opt/anaconda3/envs/cmis/lib/python3.9/site-packages/scipy/sparse/linalg/_dsolve/linsolve.py:322: SparseEfficiencyWarning: splu requires CSC matrix format\n",
      "  warn('splu requires CSC matrix format', SparseEfficiencyWarning)\n",
      "/Users/kenny/opt/anaconda3/envs/cmis/lib/python3.9/site-packages/scipy/sparse/linalg/_dsolve/linsolve.py:215: SparseEfficiencyWarning: spsolve is more efficient when sparse b is in the CSC matrix format\n",
      "  warn('spsolve is more efficient when sparse b '\n"
     ]
    }
   ],
   "source": [
    "viewer = VIEWER.Viewer()\n",
    "for body in engine.bodies.values():\n",
    "    opacity = 0.5\n",
    "    color = V3.make(1.0,0.1,0.1)\n",
    "    F = VM.to_triangles(body.T)\n",
    "    viewer.create_mesh(body.name, body.x, F, color, opacity)\n",
    "\n",
    "def simulation(viewer, engine, monitor=True):\n",
    "    stats = []\n",
    "    dt = engine.params.time_step\n",
    "    T  = engine.params.total_time\n",
    "    fps = 1.0/dt\n",
    "    steps = int(np.round(T*fps))    \n",
    "    for i in range(steps):\n",
    "        for body in engine.bodies.values():\n",
    "            viewer.update_mesh(body.name, body.x)\n",
    "        data = SOLVER.stepper(dt, engine, monitor)\n",
    "        stats.append(data)\n",
    "    return stats\n",
    "        \n",
    "viewer.show()\n",
    "stats = simulation(viewer, engine, True)"
   ]
  },
  {
   "cell_type": "markdown",
   "metadata": {},
   "source": [
    "The stepper function in the SOLVER module is the main work horse of the simulation. It outputs a lot of statistics about the numerics. This data is useful to analyze what happend in the simulation and if the simulator was working or if something unexpected happend.\n",
    "\n",
    "Often one cares about the convergence of the solver. It is not difficult to extract and plot the convergence rates."
   ]
  },
  {
   "cell_type": "code",
   "execution_count": null,
   "metadata": {},
   "outputs": [],
   "source": [
    "import matplotlib.pyplot as plt\n",
    "\n",
    "colors = ['#e6194b', '#3cb44b', '#ffe119', '#4363d8', '#f58231', '#911eb4',\n",
    "          '#46f0f0', '#f032e6', '#bcf60c', '#fabebe', '#008080', '#e6beff',\n",
    "          '#9a6324', '#fffac8', '#800000', '#aaffc3', '#808000', '#ffd8b1',\n",
    "          '#000075', '#808080', '#ffffff', '#000000']"
   ]
  },
  {
   "cell_type": "code",
   "execution_count": null,
   "metadata": {
    "pycharm": {
     "name": "#%%\n"
    },
    "scrolled": true
   },
   "outputs": [],
   "source": [
    "time_elastic_forces = [ stats[i]['compute_elastic_forces'] for i in range(len(stats)) ]\n",
    "time_traction_forces = [ stats[i]['compute_traction_forces'] for i in range(len(stats)) ]\n",
    "time_damping_forces = [ stats[i]['compute_damping_forces'] for i in range(len(stats)) ]\n",
    "time_external_forces = [ stats[i]['compute_external_forces'] for i in range(len(stats)) ]\n",
    "time_mass_matrix = [ stats[i]['compute_mass_matrix'] for i in range(len(stats)) ]\n",
    "time_inverse_mass_matrix = [ stats[i]['compute_inverse_mass_matrix'] for i in range(len(stats)) ]\n",
    "time_update_bvh = [ stats[i]['update_bvh'] for i in range(len(stats)) ]\n",
    "time_narrow_phase = [ stats[i]['narrow_phase'] for i in range(len(stats)) ]\n",
    "time_contact_determination = [ stats[i]['contact_determination'] for i in range(len(stats)) ]\n",
    "time_contact_point_reduction = [ stats[i]['contact_point_reduction'] for i in range(len(stats)) ]\n",
    "time_collision_detection = [ stats[i]['collision_detection_time'] for i in range(len(stats)) ]\n",
    "time_stepper = [ stats[i]['stepper_time'] for i in range(len(stats)) ]\n",
    "time_kinetic_energy = [ stats[i]['compute_kinetic_energy'] for i in range(len(stats)) ]\n",
    "time_poential_energy = [ stats[i]['compute_potential_energy'] for i in range(len(stats)) ]\n",
    "time_elastic_energy = [ stats[i]['compute_elastic_energy'] for i in range(len(stats)) ]\n",
    "\n",
    "fig = plt.figure()\n",
    "ax = plt.subplot(111)\n",
    "ax.set_title('Profiling Timings')\n",
    "ax.set_xlabel('Step')\n",
    "ax.set_ylabel('Time [s]')\n",
    "plt.grid(True)\n",
    "ax.plot(time_elastic_forces, label='Elastic forces', color=colors[0])\n",
    "ax.plot(time_traction_forces, label='Traction forces', color=colors[1])\n",
    "ax.plot(time_damping_forces, label='Damping forces', color=colors[2])\n",
    "ax.plot(time_external_forces, label='External forces', color=colors[3])\n",
    "ax.plot(time_mass_matrix, label='Mass matrix', color=colors[4])\n",
    "ax.plot(time_inverse_mass_matrix, label='Inverse mass', color=colors[5])\n",
    "ax.plot(time_update_bvh, label='Update bvh', color=colors[6])\n",
    "ax.plot(time_narrow_phase, label='Narrow phase', color=colors[7])\n",
    "ax.plot(time_contact_determination, label='Contact determination', color=colors[8])\n",
    "ax.plot(time_contact_point_reduction, label='Contact reduction', color=colors[9])\n",
    "ax.plot(time_collision_detection, label='Collision Detection', color=colors[10])\n",
    "ax.plot(time_stepper, label='Stepper', color=colors[11])\n",
    "ax.plot(time_kinetic_energy, label='Kinetic', color=colors[12])\n",
    "ax.plot(time_poential_energy, label='Potential', color=colors[13])\n",
    "ax.plot(time_elastic_energy, label='Elastic', color=colors[14])\n",
    "ax.legend()\n",
    "plt.show()"
   ]
  },
  {
   "cell_type": "code",
   "execution_count": null,
   "metadata": {},
   "outputs": [],
   "source": [
    "number_of_overlaps = [ stats[i]['number_of_overlaps'] for i in range(len(stats)) ]\n",
    "step_sizes = [ stats[i]['dt'] for i in range(len(stats)) ]\n",
    "number_of_contact_points = [ stats[i]['contact_points'] for i in range(len(stats)) ]\n",
    "penetrations = [ stats[i]['max_penetration'] for i in range(len(stats)) ]\n",
    "\n",
    "fig = plt.figure()\n",
    "ax = plt.subplot(111)\n",
    "ax.set_title('Profiling data')\n",
    "ax.set_xlabel('Step')\n",
    "ax.set_ylabel('Value')\n",
    "plt.grid(True)\n",
    "ax.plot(number_of_overlaps, label='Overlaps', color=colors[0])\n",
    "ax.plot(step_sizes, label='Stepsize', color=colors[1])\n",
    "ax.plot(number_of_contact_points, label='Contacts', color=colors[2])\n",
    "ax.plot(penetrations, label='Penetrations', color=colors[6])\n",
    "ax.legend()\n",
    "plt.show()"
   ]
  },
  {
   "cell_type": "code",
   "execution_count": null,
   "metadata": {},
   "outputs": [],
   "source": [
    "elastic_energy = [ stats[i]['elastic_energy'] for i in range(len(stats)) ]\n",
    "kinetic_energy = [ stats[i]['kinetic_energy'] for i in range(len(stats)) ]\n",
    "potential_energy = [ stats[i]['potential_energy'] for i in range(len(stats)) ]\n",
    "\n",
    "fig = plt.figure()\n",
    "ax = plt.subplot(111)\n",
    "ax.set_title('Energy Plots')\n",
    "ax.set_xlabel('Step')\n",
    "ax.set_ylabel('Value')\n",
    "plt.grid(True)\n",
    "ax.plot(elastic_energy, label='Elastic Energy', color=colors[3])\n",
    "ax.plot(kinetic_energy, label='Kinetic Energy', color=colors[4])\n",
    "ax.plot(potential_energy, label='Potential Energy', color=colors[5])\n",
    "ax.legend()\n",
    "plt.show()"
   ]
  }
 ],
 "metadata": {
  "kernelspec": {
   "display_name": "Python 3 (ipykernel)",
   "language": "python",
   "name": "python3"
  },
  "language_info": {
   "codemirror_mode": {
    "name": "ipython",
    "version": 3
   },
   "file_extension": ".py",
   "mimetype": "text/x-python",
   "name": "python",
   "nbconvert_exporter": "python",
   "pygments_lexer": "ipython3",
   "version": "3.9.10"
  }
 },
 "nbformat": 4,
 "nbformat_minor": 4
}
