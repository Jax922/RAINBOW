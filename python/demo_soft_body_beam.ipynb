{
 "cells": [
  {
   "cell_type": "code",
   "execution_count": 2,
   "metadata": {},
   "outputs": [],
   "source": [
    "%matplotlib widget\n",
    "import numpy as np\n",
    "import rainbow.math.vector3 as V3\n",
    "import rainbow.geometry.volume_mesh as VM\n",
    "import rainbow.simulators.prox_soft_bodies.api as API\n",
    "import rainbow.simulators.prox_soft_bodies.solver as SOLVER\n",
    "import rainbow.util.viewer as VIEWER\n",
    "from rainbow.util.USD import USD"
   ]
  },
  {
   "cell_type": "code",
   "execution_count": 4,
   "metadata": {},
   "outputs": [],
   "source": [
    "# This block includes the helper functions to create the soft beam and the wall, and to initialize the viewer, and to simulate the scene.\n",
    "\n",
    "# colors for visualization\n",
    "COLOR_MAP = {\n",
    "    'beam': V3.make(0.1, 0.8, 0.1),\n",
    "    'wall': V3.make(224/255, 208/255, 193/255),\n",
    "    'ground': V3.make(224/255, 208/255, 193/255)\n",
    "}\n",
    "\n",
    "# create a soft material into a scene\n",
    "def create_soft_material(engine, model=API.SNH):\n",
    "    # E = 10e5  # Young modulus\n",
    "    # nu = 0.3  # Poisson ratio\n",
    "    # rho = 1000  # Mass density\n",
    "    E, nu, rho = API.create_material_parameters() # default values\n",
    "    API.create_material(engine, 'soft_mat1')\n",
    "    API.set_elasticity(engine, 'soft_mat1', E, nu)\n",
    "    API.set_mass_density(engine, 'soft_mat1', rho)\n",
    "    API.set_constitutive_model(engine, 'soft_mat1', API.SNH)\n",
    "    API.set_viscosity(engine, 'soft_mat1', 0.5)\n",
    "    API.create_surfaces_interaction(engine,'soft_mat1','soft_mat1', 0.5)\n",
    "\n",
    "# create the soft beam into a scene\n",
    "def create_soft_beam(engine, gravity=-10, material='soft_mat1'):\n",
    "    V_beam, T_beam = VM.create_beam(20, 3, 3, 4.0, 1.0, 1.0) # geometry \n",
    "    API.create_soft_body(engine, 'beam', V_beam, T_beam)\n",
    "    API.set_type(engine, 'beam', \"Free\")\n",
    "    API.set_gravity(engine, 'beam', (0,gravity,0))\n",
    "    API.set_material(engine,'beam', material)\n",
    "\n",
    "# create the wall into a scene\n",
    "def create_wall(engine):\n",
    "    V_wall, T_wall = VM.create_beam(2, 2, 2, 0.1, 8.0, 8.0)\n",
    "    V_wall[:,0] -= 2.05\n",
    "    API.create_soft_body(engine, 'wall', V_wall, T_wall)\n",
    "    API.set_type(engine, 'wall', \"Fixed\")\n",
    "    API.set_gravity(engine, 'wall', (0,0,0))\n",
    "    API.set_material(engine,'wall','soft_mat1')\n",
    "\n",
    "# create the ground into a scene\n",
    "def create_ground(engine):\n",
    "    V_wall, T_wall = VM.create_beam(2, 2, 2, 8.0, 0.1, 8.0)\n",
    "    V_wall[:,1] -= 0.55\n",
    "    API.create_soft_body(engine, 'ground', V_wall, T_wall)\n",
    "    API.set_type(engine, 'ground', \"Fixed\")\n",
    "    API.set_gravity(engine, 'ground', (0,0,0))\n",
    "    API.set_material(engine,'ground','soft_mat1')\n",
    "\n",
    "# initialize the viewer\n",
    "def initialize_viewer(engine, viewer, usd):\n",
    "    # viewer.create_frame(\"origin\")\n",
    "    for body in engine.bodies.values():    \n",
    "        opacity = 0.5 if body.name == \"beam\" else 1.0\n",
    "        F = VM.to_triangles(body.T)\n",
    "        color = COLOR_MAP[body.name]\n",
    "        viewer.create_mesh(body.name, body.x0, F, color, opacity)   \n",
    "        viewer.create_scatter(body.name + '.DBC')\n",
    "        viewer.create_quiver(body.name + '.Ft')\n",
    "        # viewer.hide_quiver(body.name + '.Ft')\n",
    "        # add mesh to usd\n",
    "        usd.add_mesh(body.name, body.x0, F)\n",
    "\n",
    "    viewer.show()\n",
    "\n",
    "# simulate the scene\n",
    "def simulate(engine, viewer, usd, T = 1.0, update_traction=False):\n",
    "    dt = engine.params.time_step\n",
    "    fps = 1.0/dt\n",
    "    steps = int(np.round(T*fps)) \n",
    "    usd.set_animation_time(T*fps)\n",
    "    for i in range(steps):\n",
    "        print(\"progress:{}/{}\".format(i,steps), end=\"\\r\")\n",
    "        API.simulate(engine, dt, debug_on=True)\n",
    "        for body in engine.bodies.values():\n",
    "            if body.name == \"wall\":\n",
    "                continue\n",
    "            viewer.update_mesh(body.name, body.x)\n",
    "            if body.Ft is not None:\n",
    "                viewer.update_quiver(body.name + '.Ft', V=body.x, N=body.Ft, scale=0.1, color=[0.7, 0.7, 0.1])\n",
    "            usd.update_mesh_positions(body.name, body.x, i*dt*fps)\n",
    "            if len(body.dirichlet_conditions)>0:\n",
    "                indices = [bc.idx for bc in body.dirichlet_conditions]\n",
    "                V = body.x[indices]\n",
    "                viewer.update_scatter(body.name + '.DBC', V=V, scale=0.5, color=[0.4, 0.4, 0.4])\n",
    "    return API.get_log(engine)\n"
   ]
  },
  {
   "cell_type": "markdown",
   "metadata": {},
   "source": [
    "## Scene1\n",
    "A soft beam comes into contact with the wall, and assign it a gravitational force of -10, then simulate the process of the soft beam gradually fall down.\n",
    "\n",
    "\n",
    "\n",
    "\n"
   ]
  },
  {
   "cell_type": "code",
   "execution_count": 3,
   "metadata": {},
   "outputs": [
    {
     "data": {
      "application/vnd.jupyter.widget-view+json": {
       "model_id": "32551d3dc29a4b06ada556bb94a308c6",
       "version_major": 2,
       "version_minor": 0
      },
      "text/plain": [
       "Renderer(camera=PerspectiveCamera(aspect=1.25, children=(DirectionalLight(color='white', intensity=0.6, positi…"
      ]
     },
     "metadata": {},
     "output_type": "display_data"
    },
    {
     "name": "stdout",
     "output_type": "stream",
     "text": [
      "progress:0/1000\r"
     ]
    },
    {
     "name": "stderr",
     "output_type": "stream",
     "text": [
      "/home/qbp758/anaconda3/envs/sim/lib/python3.9/site-packages/scipy/sparse/linalg/_dsolve/linsolve.py:412: SparseEfficiencyWarning: splu converted its input to CSC format\n",
      "  warn('splu converted its input to CSC format', SparseEfficiencyWarning)\n",
      "/home/qbp758/anaconda3/envs/sim/lib/python3.9/site-packages/scipy/sparse/linalg/_dsolve/linsolve.py:302: SparseEfficiencyWarning: spsolve is more efficient when sparse b is in the CSC matrix format\n",
      "  warn('spsolve is more efficient when sparse b '\n",
      "/home/qbp758/dev/RAINBOW/python/rainbow/math/vector3.py:105: RuntimeWarning: invalid value encountered in divide\n",
      "  return a / np.linalg.norm(a)\n"
     ]
    },
    {
     "name": "stdout",
     "output_type": "stream",
     "text": [
      "progress:999/1000\r"
     ]
    }
   ],
   "source": [
    "# scene1 setup\n",
    "scene1 = API.create_engine()\n",
    "scene1.params.time_step = 0.001\n",
    "viewer1 = VIEWER.Viewer()\n",
    "\n",
    "create_soft_material(scene1) \n",
    "create_soft_beam(scene1)\n",
    "create_wall(scene1)\n",
    "\n",
    "def left_wall(x):\n",
    "    return x[0] + 1.9\n",
    "\n",
    "API.create_dirichlet_conditions(scene1, 'beam', left_wall)\n",
    "\n",
    "\n",
    "\n",
    "usd = USD(\"soft_body_beam_1.usda\")\n",
    "\n",
    "\n",
    "initialize_viewer(scene1, viewer1, usd)\n",
    "stats = simulate(scene1, viewer1, usd)\n",
    "\n",
    "usd.save()"
   ]
  },
  {
   "cell_type": "markdown",
   "metadata": {},
   "source": [
    "# Scene2\n",
    "A soft beam rests on the ground, its left side touching and fixed to the left wall. Next, we simulate a traction force pulling the soft beam horizontally from left to right."
   ]
  },
  {
   "cell_type": "code",
   "execution_count": 5,
   "metadata": {},
   "outputs": [
    {
     "data": {
      "application/vnd.jupyter.widget-view+json": {
       "model_id": "f623657eb7e64216acc40d5b3e051642",
       "version_major": 2,
       "version_minor": 0
      },
      "text/plain": [
       "Renderer(camera=PerspectiveCamera(aspect=1.25, children=(DirectionalLight(color='white', intensity=0.6, positi…"
      ]
     },
     "metadata": {},
     "output_type": "display_data"
    },
    {
     "name": "stdout",
     "output_type": "stream",
     "text": [
      "progress:0/1000\r"
     ]
    },
    {
     "name": "stderr",
     "output_type": "stream",
     "text": [
      "/home/qbp758/anaconda3/envs/sim/lib/python3.9/site-packages/scipy/sparse/linalg/_dsolve/linsolve.py:412: SparseEfficiencyWarning: splu converted its input to CSC format\n",
      "  warn('splu converted its input to CSC format', SparseEfficiencyWarning)\n",
      "/home/qbp758/anaconda3/envs/sim/lib/python3.9/site-packages/scipy/sparse/linalg/_dsolve/linsolve.py:302: SparseEfficiencyWarning: spsolve is more efficient when sparse b is in the CSC matrix format\n",
      "  warn('spsolve is more efficient when sparse b '\n",
      "/home/qbp758/dev/RAINBOW/python/rainbow/math/vector3.py:105: RuntimeWarning: invalid value encountered in divide\n",
      "  return a / np.linalg.norm(a)\n"
     ]
    },
    {
     "name": "stdout",
     "output_type": "stream",
     "text": [
      "progress:999/1000\r"
     ]
    }
   ],
   "source": [
    "def create_soft_material_2(engine, model=API.SNH):\n",
    "    E, nu, rho = API.create_material_parameters(\"copper\") \n",
    "    API.create_material(engine, 'soft_mat2')\n",
    "    API.set_elasticity(engine, 'soft_mat2', E, nu)\n",
    "    API.set_mass_density(engine, 'soft_mat2', rho)\n",
    "    API.set_constitutive_model(engine, 'soft_mat2', model)\n",
    "    API.set_viscosity(engine, 'soft_mat2', 0.5)\n",
    "    API.create_surfaces_interaction(engine,'soft_mat2','soft_mat2', 0.5)\n",
    "\n",
    "\n",
    "def create_soft_flat(engine, gravity=-10, material='soft_mat1'):\n",
    "    V_beam, T_beam = VM.create_beam(20, 2, 2, 4.0, 0.1, 0.1) # geometry \n",
    "    API.create_soft_body(engine, 'beam', V_beam, T_beam)\n",
    "    API.set_type(engine, 'beam', \"Free\")\n",
    "    API.set_gravity(engine, 'beam', (0,gravity,0))\n",
    "    API.set_material(engine,'beam', material)\n",
    "\n",
    "# scene2 setup\n",
    "scene2 = API.create_engine()\n",
    "scene2.params.time_step = 0.001\n",
    "viewer2 = VIEWER.Viewer()\n",
    "\n",
    "create_soft_material(scene2, API.SVK)\n",
    "create_soft_flat(scene2, 0, \"soft_mat1\")\n",
    "\n",
    "def left_beam(x):\n",
    "    return x[0] + 1.9\n",
    "\n",
    "def right_beam(x):\n",
    "    return 1.9 - x[0]\n",
    "\n",
    "def center_beam(x):\n",
    "    return -1 if x[0] < 0.05 or x[0] > -0.05 else 1\n",
    "\n",
    "\n",
    "# set the dirichlet conditions for the beam\n",
    "# API.create_dirichlet_conditions(scene2, 'beam', left_beam)\n",
    "# API.create_dirichlet_conditions(scene2, 'beam', right_beam)\n",
    "\n",
    "# set the traction force for the beam\n",
    "# API.create_traction_conditions(scene2, 'beam', center_beam, load=V3.make(0.00001,3000,0))\n",
    "API.create_traction_conditions(scene2, 'beam', left_beam, load=V3.make(2000, -2000, 0))\n",
    "API.create_traction_conditions(scene2, 'beam', right_beam, load=V3.make(-2000, -2000, 0))\n",
    "\n",
    "\n",
    "usd2 = USD(\"soft_body_beam_2.usda\")\n",
    "initialize_viewer(scene2, viewer2, usd2)\n",
    "\n",
    "stats = simulate(scene2, viewer2, usd2, 1)\n",
    "\n",
    "usd2.save()"
   ]
  },
  {
   "cell_type": "code",
   "execution_count": null,
   "metadata": {},
   "outputs": [],
   "source": []
  },
  {
   "cell_type": "code",
   "execution_count": null,
   "metadata": {},
   "outputs": [],
   "source": []
  }
 ],
 "metadata": {
  "kernelspec": {
   "display_name": "sim",
   "language": "python",
   "name": "python3"
  },
  "language_info": {
   "codemirror_mode": {
    "name": "ipython",
    "version": 3
   },
   "file_extension": ".py",
   "mimetype": "text/x-python",
   "name": "python",
   "nbconvert_exporter": "python",
   "pygments_lexer": "ipython3",
   "version": "3.9.18"
  },
  "orig_nbformat": 4
 },
 "nbformat": 4,
 "nbformat_minor": 2
}
