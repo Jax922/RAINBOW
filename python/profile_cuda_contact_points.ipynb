{
 "cells": [
  {
   "cell_type": "code",
   "execution_count": 1,
   "metadata": {},
   "outputs": [
    {
     "data": {
      "text/plain": [
       "<module 'rainbow.cuda.geometry.grid3' from '/home/qbp758/dev/RAINBOW/python/rainbow/cuda/geometry/grid3.py'>"
      ]
     },
     "execution_count": 1,
     "metadata": {},
     "output_type": "execute_result"
    }
   ],
   "source": [
    "import unittest\n",
    "import os\n",
    "import sys\n",
    "import numpy as np\n",
    "import igl\n",
    "import time\n",
    "import matplotlib.pyplot as plt\n",
    "import importlib\n",
    "import random\n",
    "\n",
    "import rainbow.cuda.geometry.grid3 as CUDAGRID\n",
    "import rainbow.geometry.grid3 as GRID\n",
    "import rainbow.geometry.volume_mesh as VM\n",
    "from numba import cuda\n",
    "\n",
    "from tqdm import tqdm\n",
    "import rainbow.math.vector3 as V3\n",
    "import rainbow.simulators.prox_soft_bodies.api as API\n",
    "import rainbow.simulators.prox_soft_bodies.solver as SOLVER\n",
    "import rainbow.util.viewer as VIEWER\n",
    "from rainbow.util.USD import USD\n",
    "\n",
    "importlib.reload(API)\n",
    "importlib.reload(SOLVER)\n",
    "importlib.reload(CUDAGRID)"
   ]
  },
  {
   "cell_type": "code",
   "execution_count": 36,
   "metadata": {},
   "outputs": [],
   "source": [
    "# colors for visualization\n",
    "v3_colors = [\n",
    "    V3.make(0.90, 0.10, 0.29),\n",
    "    V3.make(0.24, 0.71, 0.29),\n",
    "    V3.make(1.00, 0.88, 0.10),\n",
    "    V3.make(0.26, 0.39, 0.85),\n",
    "    V3.make(0.96, 0.51, 0.19),\n",
    "    V3.make(0.57, 0.11, 0.71),\n",
    "    V3.make(0.28, 0.94, 0.94),\n",
    "    V3.make(0.95, 0.20, 0.90),\n",
    "    V3.make(0.74, 0.96, 0.05),\n",
    "    V3.make(0.98, 0.74, 0.75),\n",
    "    V3.make(0.00, 0.50, 0.50),\n",
    "    V3.make(0.90, 0.75, 1.00),\n",
    "    V3.make(0.60, 0.39, 0.14),\n",
    "    V3.make(1.00, 0.98, 0.78),\n",
    "    V3.make(0.50, 0.00, 0.00),\n",
    "    V3.make(0.67, 1.00, 0.76),\n",
    "    V3.make(0.50, 0.50, 0.00),\n",
    "    V3.make(1.00, 0.85, 0.69),\n",
    "    V3.make(0.00, 0.00, 0.46),\n",
    "    V3.make(0.50, 0.50, 0.50),\n",
    "    V3.make(1.00, 1.00, 1.00),\n",
    "    V3.make(0.00, 0.00, 0.00)\n",
    "]\n",
    "\n",
    "\n",
    "MODEL_MAP = {\n",
    "    'SVK': API.SVK,\n",
    "    'COR': API.COR,\n",
    "    'SNH': API.SNH\n",
    "}\n",
    "\n",
    "\n",
    "# create a soft material into a scene\n",
    "def create_soft_material(engine, name=None, model_name='SVK', friction=0.5):\n",
    "    model = MODEL_MAP[model_name]\n",
    "    E, nu, rho = API.create_material_parameters(name) # if name == None, default values , E = 10e5 nu = 0.3 rho = 1000  \n",
    "\n",
    "    API.create_material(engine, 'soft_mat1')\n",
    "    API.set_elasticity(engine, 'soft_mat1', E, nu)\n",
    "    API.set_mass_density(engine, 'soft_mat1', rho)\n",
    "    API.set_constitutive_model(engine, 'soft_mat1', model)\n",
    "    API.set_viscosity(engine, 'soft_mat1', 0.5)\n",
    "    API.create_surfaces_interaction(engine,'soft_mat1','soft_mat1', friction)\n",
    "\n",
    "# create the soft beam into a scene\n",
    "def create_soft_beam(engine, geo, gravity=-10, material='soft_mat1', name='beam'):\n",
    "    V_beam, T_beam = VM.create_beam(*geo) # geometry \n",
    "    \n",
    "    # V_beam[:,0] -= random.uniform(-4.0, -1.5)\n",
    "    # V_beam[:,1] += random.uniform(0.275, 0.276)\n",
    "    # V_beam[:,2] -= random.uniform(-1.5, 1.5)\n",
    "    API.create_soft_body(engine, name, V_beam, T_beam)\n",
    "    API.set_type(engine, name, \"Free\")\n",
    "    API.set_gravity(engine, name, (0,gravity,0))\n",
    "    API.set_material(engine, name, material)\n",
    "    return len(T_beam)\n",
    "    \n",
    "# create the wall into a scene\n",
    "def create_wall(engine):\n",
    "    V_wall, T_wall = VM.create_beam(2, 2, 2, 0.1, 8.0, 8.0)\n",
    "    V_wall[:,0] -= 2.05\n",
    "    API.create_soft_body(engine, 'wall', V_wall, T_wall)\n",
    "    API.set_type(engine, 'wall', \"Fixed\")\n",
    "    API.set_gravity(engine, 'wall', (0,0,0))\n",
    "    API.set_material(engine,'wall','soft_mat1')\n",
    "\n",
    "# initialize the viewer\n",
    "def initialize_viewer(engine, viewer, usd):\n",
    "    # viewer.create_frame(\"origin\")\n",
    "    for body in engine.bodies.values():    \n",
    "        opacity = 0.5\n",
    "        F = VM.to_triangles(body.T)\n",
    "        color = random.choice(v3_colors)\n",
    "        viewer.create_mesh(body.name, body.x0, F, color, opacity)   \n",
    "        # add mesh to usd\n",
    "        usd.add_mesh(body.name, body.x0, F, color)\n",
    "\n",
    "    viewer.show()\n",
    "\n",
    "def simulate(engine, T = 1.0, render_fps=60.0, non_update_bodies=[], update_traction=False):\n",
    "    sim_dt = engine.params.time_step\n",
    "    sim_fps = 1.0 / sim_dt\n",
    "    render_dt = 1 / render_fps\n",
    "    render_steps = int(np.round(T / render_dt))\n",
    "    # usd.set_animation_time(T*render_fps) # set the simulation ending time  in usd\n",
    "\n",
    "    for step in tqdm(range(render_steps), desc=\"Rendering Loop:\"):\n",
    "        dT = render_dt \n",
    "        while dT > 0: # do simulation block\n",
    "            dt = min(dT, sim_dt) # generally, sim_dt < render_dt\n",
    "            API.simulate(engine, dt, debug_on=True)\n",
    "            dT -= dt\n",
    "            # upadte_viewer(engine, viewer, non_update_bodies)\n",
    "        # upadte_usd(engine, usd, step*render_dt*render_fps, non_update_bodies)\n",
    "\n",
    "    return API.get_log(engine)\n",
    "\n",
    "def plot_profile(cpu_times, gpu_times, xlabel, title='Execution Time Comparison: CPU vs GPU'):\n",
    "    plt.figure(figsize=(10, 6))\n",
    "    plt.plot(cpu_times, '-o', label='CPU')\n",
    "    plt.plot(gpu_times, '-o', label='GPU')\n",
    "    plt.xlabel(xlabel)\n",
    "    plt.ylabel('Execution Time (seconds)')\n",
    "    plt.title(title)\n",
    "    plt.legend()\n",
    "    plt.grid(True, which=\"both\", ls=\"--\", c='0.7')\n",
    "    plt.show()\n",
    "\n",
    "def get_computing_time(stats):\n",
    "    time_elastic_forces = [ stats[i]['compute_elastic_forces'] for i in range(1, len(stats)) ]\n",
    "    time_traction_forces = [ stats[i]['compute_traction_forces'] for i in range(1, len(stats)) ]\n",
    "    time_damping_forces = [ stats[i]['compute_damping_forces'] for i in range(1, len(stats)) ]\n",
    "    time_external_forces = [ stats[i]['compute_external_forces'] for i in range(1, len(stats)) ]\n",
    "    time_update_bvh = [ stats[i]['update_bvh'] for i in range(1, len(stats)) ]\n",
    "    time_narrow_phase = [ stats[i]['narrow_phase'] for i in range(1, len(stats)) ]\n",
    "    time_contact_determination = [ stats[i]['contact_determination'] for i in range(1, len(stats)) ]\n",
    "    time_contact_point_reduction = [ stats[i]['contact_point_reduction'] for i in range(1, len(stats)) ]\n",
    "    time_collision_detection = [ stats[i]['collision_detection_time'] for i in range(1, len(stats)) ]\n",
    "    time_stepper = [ stats[i]['stepper_time'] for i in range(1, len(stats)) ]\n",
    "    time_kinetic_energy = [ stats[i]['compute_kinetic_energy'] for i in range(1, len(stats)) ]\n",
    "    time_poential_energy = [ stats[i]['compute_potential_energy'] for i in range(1, len(stats)) ]\n",
    "    time_elastic_energy = [ stats[i]['compute_elastic_energy'] for i in range(1, len(stats)) ]\n",
    "\n",
    "    time_elastic_forces = np.array(time_elastic_forces)\n",
    "    time_traction_forces = np.array(time_traction_forces)\n",
    "    time_damping_forces = np.array(time_damping_forces)\n",
    "    time_external_forces = np.array(time_external_forces)\n",
    "    time_update_bvh = np.array(time_update_bvh)\n",
    "    time_narrow_phase = np.array(time_narrow_phase)\n",
    "    time_contact_determination = np.array(time_contact_determination)\n",
    "    time_contact_point_reduction = np.array(time_contact_point_reduction)\n",
    "    time_collision_detection = np.array(time_collision_detection)\n",
    "    time_stepper = np.array(time_stepper)\n",
    "    time_kinetic_energy = np.array(time_kinetic_energy)\n",
    "    time_poential_energy = np.array(time_poential_energy)\n",
    "    time_elastic_energy = np.array(time_elastic_energy)\n",
    "\n",
    "    total_time = time_elastic_forces.sum() + time_traction_forces.sum() + time_damping_forces.sum() + time_external_forces.sum() + time_update_bvh.sum() + time_narrow_phase.sum() + time_contact_determination.sum() + time_contact_point_reduction.sum() + time_collision_detection.sum() + time_stepper.sum() + time_kinetic_energy.sum() + time_poential_energy.sum() + time_elastic_energy.sum()\n",
    "\n",
    "    total_time_contact_determination = time_contact_determination.sum()\n",
    "\n",
    "    return total_time, total_time_contact_determination"
   ]
  },
  {
   "cell_type": "markdown",
   "metadata": {},
   "source": [
    "## Compare the running time of the CUDA and CPU versions of the contact points calculation\n",
    "\n",
    "The scene is this first soft demo, this is a very easy scene to compute, but it is a good starting point to compare the running time of the CPU and CUDA versions of the contact points calculation."
   ]
  },
  {
   "cell_type": "code",
   "execution_count": 15,
   "metadata": {},
   "outputs": [
    {
     "name": "stderr",
     "output_type": "stream",
     "text": [
      "Rendering Loop::   0%|          | 0/60 [00:00<?, ?it/s]/home/qbp758/anaconda3/envs/sim/lib/python3.9/site-packages/scipy/sparse/linalg/_dsolve/linsolve.py:412: SparseEfficiencyWarning: splu converted its input to CSC format\n",
      "  warn('splu converted its input to CSC format', SparseEfficiencyWarning)\n",
      "/home/qbp758/anaconda3/envs/sim/lib/python3.9/site-packages/scipy/sparse/linalg/_dsolve/linsolve.py:302: SparseEfficiencyWarning: spsolve is more efficient when sparse b is in the CSC matrix format\n",
      "  warn('spsolve is more efficient when sparse b '\n",
      "Rendering Loop:: 100%|██████████| 60/60 [02:45<00:00,  2.76s/it]\n"
     ]
    }
   ],
   "source": [
    "scene = API.create_engine()\n",
    "scene.params.time_step = 0.001\n",
    "\n",
    "create_soft_material(scene, None, 'SNH') \n",
    "create_soft_beam(scene, (12, 3, 3, 4.0, 1.0, 1.0))\n",
    "create_wall(scene)\n",
    "\n",
    "def left_wall(x):\n",
    "    return x[0] + 1.9\n",
    "\n",
    "API.create_dirichlet_conditions(scene, 'beam', left_wall)\n",
    "\n",
    "\n",
    "# use GPU computing\n",
    "stats_gpu = simulate(scene,  T = 1, non_update_bodies=['wall'])\n",
    "\n",
    "\n"
   ]
  },
  {
   "cell_type": "code",
   "execution_count": 16,
   "metadata": {},
   "outputs": [
    {
     "name": "stderr",
     "output_type": "stream",
     "text": [
      "Rendering Loop:: 100%|██████████| 60/60 [05:36<00:00,  5.61s/it]\n"
     ]
    }
   ],
   "source": [
    "scene_cpu = API.create_engine()\n",
    "scene_cpu.params.time_step = 0.001\n",
    "\n",
    "create_soft_material(scene_cpu, None, 'SNH') \n",
    "create_soft_beam(scene_cpu, (12, 3, 3, 4.0, 1.0, 1.0))\n",
    "create_wall(scene_cpu)\n",
    "\n",
    "def left_wall(x):\n",
    "    return x[0] + 1.9\n",
    "\n",
    "API.create_dirichlet_conditions(scene_cpu, 'beam', left_wall)\n",
    "\n",
    "\n",
    "# use CPU computing\n",
    "scene_cpu.params.use_gpu = False\n",
    "stats_cpu = simulate(scene_cpu,  T = 1, non_update_bodies=['wall'])\n"
   ]
  },
  {
   "cell_type": "code",
   "execution_count": 17,
   "metadata": {},
   "outputs": [
    {
     "data": {
      "text/plain": [
       "(5.177919248118997, 176.0775797739625)"
      ]
     },
     "execution_count": 17,
     "metadata": {},
     "output_type": "execute_result"
    }
   ],
   "source": [
    "time_contact_determination_gpu = [ stats_gpu[i]['contact_determination'] for i in range(1, len(stats_gpu)) ]\n",
    "time_contact_determination_cpu = [ stats_cpu[i]['contact_determination'] for i in range(1, len(stats_cpu)) ]\n",
    "time_contact_determination_gpu = np.array(time_contact_determination_gpu)\n",
    "time_contact_determination_cpu = np.array(time_contact_determination_cpu)\n",
    "\n",
    "time_contact_determination_gpu.sum() , time_contact_determination_cpu.sum()"
   ]
  },
  {
   "cell_type": "code",
   "execution_count": 18,
   "metadata": {},
   "outputs": [
    {
     "data": {
      "image/png": "[encoded data removed]",
      "text/plain": [
       "<Figure size 1000x600 with 1 Axes>"
      ]
     },
     "metadata": {},
     "output_type": "display_data"
    }
   ],
   "source": [
    "\n",
    "\n",
    "plot_profile(time_contact_determination_cpu, time_contact_determination_gpu, 'Frame', 'Execution Time Comparison: CPU vs GPU')"
   ]
  },
  {
   "cell_type": "markdown",
   "metadata": {},
   "source": [
    "## Compare the performance of CPU and GPU computing deeply\n",
    "Now, we will create more complex scenes to compare the performance of CPU and GPU computing deeply.\n"
   ]
  },
  {
   "cell_type": "code",
   "execution_count": 37,
   "metadata": {},
   "outputs": [],
   "source": [
    "def create_complex_scene(number_cell = 5, material=None, model='SNH', time_step=0.0001, use_gpu=True):\n",
    "    scene = API.create_engine()\n",
    "    scene.params.time_step = time_step\n",
    "    viewer = VIEWER.Viewer()\n",
    "\n",
    "    create_soft_material(scene, material, model) \n",
    "\n",
    "    T1 = create_soft_beam(scene, (number_cell, number_cell, number_cell, 2, 2, 2), name=\"cube\")\n",
    "    T2 = create_soft_beam(scene, (number_cell, number_cell, number_cell, 4, 0.05, 4), name=\"surface\")\n",
    "\n",
    "    API.create_dirichlet_conditions(scene, 'surface', lambda x: x[0] + 1.9)\n",
    "    API.create_dirichlet_conditions(scene, 'surface', lambda x: 1.9 - x[0])\n",
    "\n",
    "    usd = USD(\"complex_scene\"+ str(number_cell) +\".usd\")\n",
    "    initialize_viewer(scene, viewer, usd)\n",
    "    usd.save()\n",
    "\n",
    "    scene.params.use_gpu = use_gpu\n",
    "    stats = simulate(scene, T = 0.05)\n",
    "    return stats, T1+T2\n"
   ]
  },
  {
   "cell_type": "code",
   "execution_count": 49,
   "metadata": {},
   "outputs": [
    {
     "data": {
      "application/vnd.jupyter.widget-view+json": {
       "model_id": "d75067ae43054f7c9ff21e848dc6f618",
       "version_major": 2,
       "version_minor": 0
      },
      "text/plain": [
       "Renderer(camera=PerspectiveCamera(aspect=1.25, children=(DirectionalLight(color='white', intensity=0.6, positi…"
      ]
     },
     "metadata": {},
     "output_type": "display_data"
    },
    {
     "name": "stderr",
     "output_type": "stream",
     "text": [
      "Rendering Loop:: 100%|██████████| 3/3 [00:08<00:00,  2.81s/it]\n"
     ]
    },
    {
     "data": {
      "application/vnd.jupyter.widget-view+json": {
       "model_id": "307fc67516a3409183673a1b5fa74a34",
       "version_major": 2,
       "version_minor": 0
      },
      "text/plain": [
       "Renderer(camera=PerspectiveCamera(aspect=1.25, children=(DirectionalLight(color='white', intensity=0.6, positi…"
      ]
     },
     "metadata": {},
     "output_type": "display_data"
    },
    {
     "name": "stderr",
     "output_type": "stream",
     "text": [
      "Rendering Loop:: 100%|██████████| 3/3 [01:02<00:00, 20.97s/it]\n"
     ]
    }
   ],
   "source": [
    "\n",
    "number_objects = [2]\n",
    "\n",
    "stats_gpu = []\n",
    "stats_cpu = []\n",
    "number_tets = []\n",
    "\n",
    "for number in number_objects:\n",
    "    complex_stats_gpu, number_tet = create_complex_scene(number, use_gpu=True)\n",
    "    stats_gpu.append(complex_stats_gpu)\n",
    "\n",
    "    complex_stats_cpu, number_tet = create_complex_scene(number, use_gpu=False)\n",
    "    stats_cpu.append(complex_stats_cpu)\n",
    "\n",
    "    number_tets.append(number_tet)\n",
    "\n",
    "total_time_gpus = []\n",
    "total_time_cpus = []\n",
    "total_time_contact_determination_gpus = []\n",
    "total_time_contact_determination_cpus = []\n",
    "\n",
    "\n",
    "\n",
    "\n",
    "# for i in range(len(number_objects)):\n",
    "#     total_time_gpu, total_time_contact_determination_gpu = get_computing_time(stats_gpu[i])\n",
    "#     total_time_cpu, total_time_contact_determination_cpu = get_computing_time(stats_cpu[i])\n",
    "#     print(\"number of tets: \", number_tets[i])\n",
    "#     print(\"total time gpu: \", total_time_gpu)\n",
    "#     print(\"total time cpu: \", total_time_cpu)\n",
    "#     print(\"total time contact determination gpu: \", total_time_contact_determination_gpu)\n",
    "#     print(\"total time contact determination cpu: \", total_time_contact_determination_cpu)\n",
    "#     print(\"speed up: \", total_time_cpu / total_time_gpu)\n",
    "#     print(\"speed up contact determination: \", total_time_contact_determination_cpu / total_time_contact_determination_gpu)\n",
    "\n",
    "#     stats_cpu[i] = (total_time_cpu, total_time_contact_determination_cpu)\n",
    "#     stats_gpu[i] = (total_time_gpu, total_time_contact_determination_gpu)\n",
    "\n",
    "#     total_time_gpus.append(total_time_gpu)\n",
    "#     total_time_cpus.append(total_time_cpu)\n",
    "#     total_time_contact_determination_gpus.append(total_time_contact_determination_gpu)\n",
    "#     total_time_contact_determination_cpus.append(total_time_contact_determination_cpu)\n",
    "\n",
    "# plt.figure(figsize=(10, 6))\n",
    "# plt.plot(number_tets, total_time_contact_determination_gpus, '-o', label='GPU (contact determination)')\n",
    "# plt.plot(number_tets, total_time_contact_determination_cpus, '-o', label='CPU (contact determination)')\n",
    "# plt.plot(number_tets, total_time_gpus, '-o', label='GPU (total)')\n",
    "# plt.plot(number_tets, total_time_cpus, '-o', label='CPU (total)')\n",
    "# plt.xlabel(\"Number of Tetrahedrons\")\n",
    "# plt.ylabel('Execution Time (seconds)')\n",
    "# plt.title('Execution Time Comparison: CPU vs GPU')\n",
    "# plt.legend()\n",
    "# plt.grid(True, which=\"both\", ls=\"--\", c='0.7')\n",
    "# plt.show()\n",
    "\n",
    "\n"
   ]
  },
  {
   "cell_type": "code",
   "execution_count": 45,
   "metadata": {},
   "outputs": [
    {
     "data": {
      "text/plain": [
       "[2]"
      ]
     },
     "execution_count": 45,
     "metadata": {},
     "output_type": "execute_result"
    }
   ],
   "source": [
    "number_objects"
   ]
  },
  {
   "cell_type": "code",
   "execution_count": 46,
   "metadata": {},
   "outputs": [
    {
     "ename": "IndexError",
     "evalue": "invalid index to scalar variable.",
     "output_type": "error",
     "traceback": [
      "\u001b[0;31m---------------------------------------------------------------------------\u001b[0m",
      "\u001b[0;31mIndexError\u001b[0m                                Traceback (most recent call last)",
      "\u001b[1;32m/home/qbp758/dev/RAINBOW/python/profile_cuda_contact_points.ipynb Cell 12\u001b[0m line \u001b[0;36m3\n\u001b[1;32m      <a href='vscode-notebook-cell://ssh-remote%2Bfutharkhpa03fl.unicph.domain/home/qbp758/dev/RAINBOW/python/profile_cuda_contact_points.ipynb#X21sdnNjb2RlLXJlbW90ZQ%3D%3D?line=0'>1</a>\u001b[0m \u001b[39mwith\u001b[39;00m \u001b[39mopen\u001b[39m(\u001b[39m'\u001b[39m\u001b[39mprofile_gpu_cpu.txt\u001b[39m\u001b[39m'\u001b[39m, \u001b[39m'\u001b[39m\u001b[39mw\u001b[39m\u001b[39m'\u001b[39m) \u001b[39mas\u001b[39;00m f:\n\u001b[1;32m      <a href='vscode-notebook-cell://ssh-remote%2Bfutharkhpa03fl.unicph.domain/home/qbp758/dev/RAINBOW/python/profile_cuda_contact_points.ipynb#X21sdnNjb2RlLXJlbW90ZQ%3D%3D?line=1'>2</a>\u001b[0m     \u001b[39mfor\u001b[39;00m i \u001b[39min\u001b[39;00m \u001b[39mrange\u001b[39m(\u001b[39mlen\u001b[39m(number_objects)):\n\u001b[0;32m----> <a href='vscode-notebook-cell://ssh-remote%2Bfutharkhpa03fl.unicph.domain/home/qbp758/dev/RAINBOW/python/profile_cuda_contact_points.ipynb#X21sdnNjb2RlLXJlbW90ZQ%3D%3D?line=2'>3</a>\u001b[0m         total_time_gpu, total_time_contact_determination_gpu \u001b[39m=\u001b[39m get_computing_time(stats_gpu[i])\n\u001b[1;32m      <a href='vscode-notebook-cell://ssh-remote%2Bfutharkhpa03fl.unicph.domain/home/qbp758/dev/RAINBOW/python/profile_cuda_contact_points.ipynb#X21sdnNjb2RlLXJlbW90ZQ%3D%3D?line=3'>4</a>\u001b[0m         total_time_cpu, total_time_contact_determination_cpu \u001b[39m=\u001b[39m get_computing_time(stats_cpu[i])\n\u001b[1;32m      <a href='vscode-notebook-cell://ssh-remote%2Bfutharkhpa03fl.unicph.domain/home/qbp758/dev/RAINBOW/python/profile_cuda_contact_points.ipynb#X21sdnNjb2RlLXJlbW90ZQ%3D%3D?line=4'>5</a>\u001b[0m         num_tet \u001b[39m=\u001b[39m number_tets[i]\n",
      "\u001b[1;32m/home/qbp758/dev/RAINBOW/python/profile_cuda_contact_points.ipynb Cell 12\u001b[0m line \u001b[0;36m1\n\u001b[1;32m    <a href='vscode-notebook-cell://ssh-remote%2Bfutharkhpa03fl.unicph.domain/home/qbp758/dev/RAINBOW/python/profile_cuda_contact_points.ipynb#X21sdnNjb2RlLXJlbW90ZQ%3D%3D?line=110'>111</a>\u001b[0m \u001b[39mdef\u001b[39;00m \u001b[39mget_computing_time\u001b[39m(stats):\n\u001b[0;32m--> <a href='vscode-notebook-cell://ssh-remote%2Bfutharkhpa03fl.unicph.domain/home/qbp758/dev/RAINBOW/python/profile_cuda_contact_points.ipynb#X21sdnNjb2RlLXJlbW90ZQ%3D%3D?line=111'>112</a>\u001b[0m     time_elastic_forces \u001b[39m=\u001b[39m [ stats[i][\u001b[39m'\u001b[39m\u001b[39mcompute_elastic_forces\u001b[39m\u001b[39m'\u001b[39m] \u001b[39mfor\u001b[39;00m i \u001b[39min\u001b[39;00m \u001b[39mrange\u001b[39m(\u001b[39m1\u001b[39m, \u001b[39mlen\u001b[39m(stats)) ]\n\u001b[1;32m    <a href='vscode-notebook-cell://ssh-remote%2Bfutharkhpa03fl.unicph.domain/home/qbp758/dev/RAINBOW/python/profile_cuda_contact_points.ipynb#X21sdnNjb2RlLXJlbW90ZQ%3D%3D?line=112'>113</a>\u001b[0m     time_traction_forces \u001b[39m=\u001b[39m [ stats[i][\u001b[39m'\u001b[39m\u001b[39mcompute_traction_forces\u001b[39m\u001b[39m'\u001b[39m] \u001b[39mfor\u001b[39;00m i \u001b[39min\u001b[39;00m \u001b[39mrange\u001b[39m(\u001b[39m1\u001b[39m, \u001b[39mlen\u001b[39m(stats)) ]\n\u001b[1;32m    <a href='vscode-notebook-cell://ssh-remote%2Bfutharkhpa03fl.unicph.domain/home/qbp758/dev/RAINBOW/python/profile_cuda_contact_points.ipynb#X21sdnNjb2RlLXJlbW90ZQ%3D%3D?line=113'>114</a>\u001b[0m     time_damping_forces \u001b[39m=\u001b[39m [ stats[i][\u001b[39m'\u001b[39m\u001b[39mcompute_damping_forces\u001b[39m\u001b[39m'\u001b[39m] \u001b[39mfor\u001b[39;00m i \u001b[39min\u001b[39;00m \u001b[39mrange\u001b[39m(\u001b[39m1\u001b[39m, \u001b[39mlen\u001b[39m(stats)) ]\n",
      "\u001b[1;32m/home/qbp758/dev/RAINBOW/python/profile_cuda_contact_points.ipynb Cell 12\u001b[0m line \u001b[0;36m1\n\u001b[1;32m    <a href='vscode-notebook-cell://ssh-remote%2Bfutharkhpa03fl.unicph.domain/home/qbp758/dev/RAINBOW/python/profile_cuda_contact_points.ipynb#X21sdnNjb2RlLXJlbW90ZQ%3D%3D?line=110'>111</a>\u001b[0m \u001b[39mdef\u001b[39;00m \u001b[39mget_computing_time\u001b[39m(stats):\n\u001b[0;32m--> <a href='vscode-notebook-cell://ssh-remote%2Bfutharkhpa03fl.unicph.domain/home/qbp758/dev/RAINBOW/python/profile_cuda_contact_points.ipynb#X21sdnNjb2RlLXJlbW90ZQ%3D%3D?line=111'>112</a>\u001b[0m     time_elastic_forces \u001b[39m=\u001b[39m [ stats[i][\u001b[39m'\u001b[39;49m\u001b[39mcompute_elastic_forces\u001b[39;49m\u001b[39m'\u001b[39;49m] \u001b[39mfor\u001b[39;00m i \u001b[39min\u001b[39;00m \u001b[39mrange\u001b[39m(\u001b[39m1\u001b[39m, \u001b[39mlen\u001b[39m(stats)) ]\n\u001b[1;32m    <a href='vscode-notebook-cell://ssh-remote%2Bfutharkhpa03fl.unicph.domain/home/qbp758/dev/RAINBOW/python/profile_cuda_contact_points.ipynb#X21sdnNjb2RlLXJlbW90ZQ%3D%3D?line=112'>113</a>\u001b[0m     time_traction_forces \u001b[39m=\u001b[39m [ stats[i][\u001b[39m'\u001b[39m\u001b[39mcompute_traction_forces\u001b[39m\u001b[39m'\u001b[39m] \u001b[39mfor\u001b[39;00m i \u001b[39min\u001b[39;00m \u001b[39mrange\u001b[39m(\u001b[39m1\u001b[39m, \u001b[39mlen\u001b[39m(stats)) ]\n\u001b[1;32m    <a href='vscode-notebook-cell://ssh-remote%2Bfutharkhpa03fl.unicph.domain/home/qbp758/dev/RAINBOW/python/profile_cuda_contact_points.ipynb#X21sdnNjb2RlLXJlbW90ZQ%3D%3D?line=113'>114</a>\u001b[0m     time_damping_forces \u001b[39m=\u001b[39m [ stats[i][\u001b[39m'\u001b[39m\u001b[39mcompute_damping_forces\u001b[39m\u001b[39m'\u001b[39m] \u001b[39mfor\u001b[39;00m i \u001b[39min\u001b[39;00m \u001b[39mrange\u001b[39m(\u001b[39m1\u001b[39m, \u001b[39mlen\u001b[39m(stats)) ]\n",
      "\u001b[0;31mIndexError\u001b[0m: invalid index to scalar variable."
     ]
    }
   ],
   "source": [
    "\n",
    "\n",
    "        "
   ]
  },
  {
   "cell_type": "code",
   "execution_count": null,
   "metadata": {},
   "outputs": [],
   "source": []
  }
 ],
 "metadata": {
  "kernelspec": {
   "display_name": "sim",
   "language": "python",
   "name": "python3"
  },
  "language_info": {
   "codemirror_mode": {
    "name": "ipython",
    "version": 3
   },
   "file_extension": ".py",
   "mimetype": "text/x-python",
   "name": "python",
   "nbconvert_exporter": "python",
   "pygments_lexer": "ipython3",
   "version": "3.9.18"
  },
  "orig_nbformat": 4
 },
 "nbformat": 4,
 "nbformat_minor": 2
}
