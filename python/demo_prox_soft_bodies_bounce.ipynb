{
 "cells": [
  {
   "cell_type": "markdown",
   "metadata": {
    "pycharm": {
     "name": "#%% md\n"
    }
   },
   "source": [
    "# Demo of the Prox Soft Body Simulator: Cube"
   ]
  },
  {
   "cell_type": "code",
   "execution_count": 1,
   "metadata": {
    "pycharm": {
     "name": "#%%\n"
    }
   },
   "outputs": [],
   "source": [
    "%matplotlib widget"
   ]
  },
  {
   "cell_type": "markdown",
   "metadata": {
    "pycharm": {
     "name": "#%% md\n"
    }
   },
   "source": [
    "First we make sure to import all modules that is needed."
   ]
  },
  {
   "cell_type": "code",
   "execution_count": 2,
   "metadata": {
    "pycharm": {
     "name": "#%%\n"
    }
   },
   "outputs": [],
   "source": [
    "import numpy as np\n",
    "import isl.math.vector3 as V3\n",
    "import isl.geometry.volume_mesh as VM\n",
    "import isl.simulators.prox_soft_bodies.api as API\n",
    "import isl.simulators.prox_soft_bodies.solver as SOLVER\n",
    "import isl.util.viewer as VIEWER"
   ]
  },
  {
   "cell_type": "markdown",
   "metadata": {
    "pycharm": {
     "name": "#%% md\n"
    }
   },
   "source": [
    "Second we set up a test scene using a simple beam shape. The beam is created with Dirichlet constraints on its left-most face. We let gravity work on the beam and add some slight damping to the beam as well. The end result should be a beam simulation where we will see the right-most end of the beam bounce up and down."
   ]
  },
  {
   "cell_type": "code",
   "execution_count": 3,
   "metadata": {
    "pycharm": {
     "name": "#%%\n"
    }
   },
   "outputs": [],
   "source": [
    "def left_wall(x):\n",
    "    return x[0] + 1.9\n",
    "\n",
    "def right_wall(x):\n",
    "    return 1.9- x[0]\n",
    "\n",
    "Vground, Tground = VM.create_beam(7, 3, 7, 4.0, 0.5, 4.0)\n",
    "Vcube, Tcube = VM.create_beam(5, 5, 5, 1.0, 1.0, 1.0)\n",
    "Vcube[:,1] += 0.75\n",
    "\n",
    "engine = API.Engine()\n",
    "engine.params.total_time = 1.0\n",
    "engine.params.time_step = 0.001\n",
    "\n",
    "API.create_material(engine, 'mat')\n",
    "API.set_elasticity(engine, 'mat', 100000.0, 0.3)\n",
    "API.set_mass_density(engine, 'mat', 500.0)\n",
    "API.set_constitutive_model(engine, 'mat', API.SVK)\n",
    "API.set_viscosity(engine, 'mat', 0.5)\n",
    "API.create_surfaces_interaction(engine,'mat','mat', 0.5)\n",
    "\n",
    "API.create_soft_body(engine, 'ground', Vground, Tground)\n",
    "API.set_type(engine, 'ground', 'Free')\n",
    "API.create_dirichlet_conditions(engine, 'ground', left_wall)\n",
    "API.create_dirichlet_conditions(engine, 'ground', right_wall)\n",
    "API.set_gravity(engine, 'ground', (0,-10,0))\n",
    "API.set_material(engine,'ground','mat')\n",
    "\n",
    "API.create_soft_body(engine, 'cube', Vcube, Tcube)\n",
    "API.set_type(engine, 'cube', 'Free')\n",
    "API.set_gravity(engine, 'cube', (0,-10,0))\n",
    "API.set_material(engine,'cube','mat')"
   ]
  },
  {
   "cell_type": "markdown",
   "metadata": {
    "pycharm": {
     "name": "#%% md\n"
    }
   },
   "source": [
    "Next we create a viewer object that will be responsible for showing the result of the simulation, and then we run the simulation. "
   ]
  },
  {
   "cell_type": "code",
   "execution_count": 4,
   "metadata": {
    "pycharm": {
     "name": "#%%\n"
    }
   },
   "outputs": [
    {
     "name": "stdout",
     "output_type": "stream",
     "text": [
      "Color explanation\n",
      "\tFEM Mesh: Red\n",
      "\tTraction Surface: Blue\n",
      "\tDirichlet Nodes: Black\n",
      "\tElastic Forces: Green\n",
      "\tExternal Forces: Purple\n",
      "\tDamping Forces: Gray\n",
      "\tTraction Forces: Yellow\n"
     ]
    },
    {
     "name": "stderr",
     "output_type": "stream",
     "text": [
      "/Users/kenny/opt/anaconda3/envs/cmis/lib/python3.9/site-packages/jupyter_client/session.py:716: UserWarning: Message serialization failed with:\n",
      "Out of range float values are not JSON compliant\n",
      "Supporting this message is deprecated in jupyter-client 7, please make sure your message is JSON-compliant\n",
      "  content = self.pack(content)\n"
     ]
    },
    {
     "data": {
      "application/vnd.jupyter.widget-view+json": {
       "model_id": "7ebc08c8f8fa4f56aeba6e1a121ca595",
       "version_major": 2,
       "version_minor": 0
      },
      "text/plain": [
       "Renderer(camera=PerspectiveCamera(aspect=1.25, children=(DirectionalLight(color='white', intensity=0.6, positi…"
      ]
     },
     "metadata": {},
     "output_type": "display_data"
    },
    {
     "name": "stderr",
     "output_type": "stream",
     "text": [
      "/Users/kenny/opt/anaconda3/envs/cmis/lib/python3.9/site-packages/scipy/sparse/linalg/_dsolve/linsolve.py:322: SparseEfficiencyWarning: splu requires CSC matrix format\n",
      "  warn('splu requires CSC matrix format', SparseEfficiencyWarning)\n",
      "/Users/kenny/opt/anaconda3/envs/cmis/lib/python3.9/site-packages/scipy/sparse/linalg/_dsolve/linsolve.py:215: SparseEfficiencyWarning: spsolve is more efficient when sparse b is in the CSC matrix format\n",
      "  warn('spsolve is more efficient when sparse b '\n"
     ]
    },
    {
     "ename": "TypeError",
     "evalue": "prox_sphere() takes 5 positional arguments but 6 were given",
     "output_type": "error",
     "traceback": [
      "\u001B[0;31m---------------------------------------------------------------------------\u001B[0m",
      "\u001B[0;31mTypeError\u001B[0m                                 Traceback (most recent call last)",
      "Input \u001B[0;32mIn [4]\u001B[0m, in \u001B[0;36m<cell line: 46>\u001B[0;34m()\u001B[0m\n\u001B[1;32m     43\u001B[0m     \u001B[38;5;28;01mreturn\u001B[39;00m stats\n\u001B[1;32m     45\u001B[0m initialize_viewer()\n\u001B[0;32m---> 46\u001B[0m stats \u001B[38;5;241m=\u001B[39m \u001B[43msimulate\u001B[49m\u001B[43m(\u001B[49m\u001B[43m)\u001B[49m\n",
      "Input \u001B[0;32mIn [4]\u001B[0m, in \u001B[0;36msimulate\u001B[0;34m()\u001B[0m\n\u001B[1;32m     33\u001B[0m steps \u001B[38;5;241m=\u001B[39m \u001B[38;5;28mint\u001B[39m(np\u001B[38;5;241m.\u001B[39mround(T\u001B[38;5;241m*\u001B[39mfps))    \n\u001B[1;32m     34\u001B[0m \u001B[38;5;28;01mfor\u001B[39;00m i \u001B[38;5;129;01min\u001B[39;00m \u001B[38;5;28mrange\u001B[39m(steps):\n\u001B[0;32m---> 35\u001B[0m     data \u001B[38;5;241m=\u001B[39m \u001B[43mSOLVER\u001B[49m\u001B[38;5;241;43m.\u001B[39;49m\u001B[43mstepper\u001B[49m\u001B[43m(\u001B[49m\u001B[43mdt\u001B[49m\u001B[43m,\u001B[49m\u001B[43m \u001B[49m\u001B[43mengine\u001B[49m\u001B[43m,\u001B[49m\u001B[43m \u001B[49m\u001B[43mdebug_on\u001B[49m\u001B[38;5;241;43m=\u001B[39;49m\u001B[38;5;28;43;01mTrue\u001B[39;49;00m\u001B[43m)\u001B[49m\n\u001B[1;32m     36\u001B[0m     stats\u001B[38;5;241m.\u001B[39mappend(data)        \n\u001B[1;32m     37\u001B[0m     \u001B[38;5;28;01mfor\u001B[39;00m body \u001B[38;5;129;01min\u001B[39;00m engine\u001B[38;5;241m.\u001B[39mbodies\u001B[38;5;241m.\u001B[39mvalues():\n",
      "File \u001B[0;32m~/Documents/GitHub/libRAINBOW/python/isl/simulators/prox_soft_bodies/solver.py:1103\u001B[0m, in \u001B[0;36mstepper\u001B[0;34m(dt, engine, debug_on)\u001B[0m\n\u001B[1;32m   1101\u001B[0m     mu \u001B[38;5;241m=\u001B[39m get_friction_coefficient_vector(engine)\n\u001B[1;32m   1102\u001B[0m     b \u001B[38;5;241m=\u001B[39m J\u001B[38;5;241m.\u001B[39mdot(u_prime)\n\u001B[0;32m-> 1103\u001B[0m     sol, stats \u001B[38;5;241m=\u001B[39m \u001B[43mGS\u001B[49m\u001B[38;5;241;43m.\u001B[39;49m\u001B[43msolve\u001B[49m\u001B[43m(\u001B[49m\n\u001B[1;32m   1104\u001B[0m \u001B[43m        \u001B[49m\u001B[43mJ\u001B[49m\u001B[43m,\u001B[49m\u001B[43m \u001B[49m\u001B[43mWJT\u001B[49m\u001B[43m,\u001B[49m\u001B[43m \u001B[49m\u001B[43mb\u001B[49m\u001B[43m,\u001B[49m\u001B[43m \u001B[49m\u001B[43mmu\u001B[49m\u001B[43m,\u001B[49m\u001B[43m \u001B[49m\u001B[43mGS\u001B[49m\u001B[38;5;241;43m.\u001B[39;49m\u001B[43mprox_sphere\u001B[49m\u001B[43m,\u001B[49m\u001B[43m \u001B[49m\u001B[43mengine\u001B[49m\u001B[43m,\u001B[49m\u001B[43m \u001B[49m\u001B[43mstats\u001B[49m\u001B[43m,\u001B[49m\u001B[43m \u001B[49m\u001B[43mdebug_on\u001B[49m\u001B[43m,\u001B[49m\u001B[43m \u001B[49m\u001B[38;5;124;43m\"\u001B[39;49m\u001B[38;5;124;43mgauss_seidel_\u001B[39;49m\u001B[38;5;124;43m\"\u001B[39;49m\n\u001B[1;32m   1105\u001B[0m \u001B[43m    \u001B[49m\u001B[43m)\u001B[49m\n\u001B[1;32m   1106\u001B[0m     WPc \u001B[38;5;241m=\u001B[39m WJT\u001B[38;5;241m.\u001B[39mdot(sol)\n\u001B[1;32m   1108\u001B[0m \u001B[38;5;66;03m# --- Convert from 3N-by-1 into N-by-3 vector format -----------------\u001B[39;00m\n\u001B[1;32m   1109\u001B[0m \u001B[38;5;66;03m# TODO 2021-12-07 Kenny: This seems a bit silly to make this conversion. It should be abstracted\u001B[39;00m\n\u001B[1;32m   1110\u001B[0m \u001B[38;5;66;03m#  away such that a developer can focus more on the high-level aspects of time integration and\u001B[39;00m\n\u001B[1;32m   1111\u001B[0m \u001B[38;5;66;03m#  writing solver code.\u001B[39;00m\n",
      "File \u001B[0;32m~/Documents/GitHub/libRAINBOW/python/isl/simulators/prox_rigid_bodies/gauss_seidel.py:241\u001B[0m, in \u001B[0;36msolve\u001B[0;34m(J, WJT, b, mu, friction_solver, engine, stats, debug_on, prefix)\u001B[0m\n\u001B[1;32m    238\u001B[0m last_merit \u001B[38;5;241m=\u001B[39m np\u001B[38;5;241m.\u001B[39mInf\n\u001B[1;32m    240\u001B[0m \u001B[38;5;28;01mfor\u001B[39;00m iteration \u001B[38;5;129;01min\u001B[39;00m \u001B[38;5;28mrange\u001B[39m(engine\u001B[38;5;241m.\u001B[39mparams\u001B[38;5;241m.\u001B[39mmax_iterations):\n\u001B[0;32m--> 241\u001B[0m     x \u001B[38;5;241m=\u001B[39m \u001B[43msweep\u001B[49m\u001B[43m(\u001B[49m\u001B[43mK\u001B[49m\u001B[43m,\u001B[49m\u001B[43m \u001B[49m\u001B[43mJ\u001B[49m\u001B[43m,\u001B[49m\u001B[43m \u001B[49m\u001B[43mWJT\u001B[49m\u001B[43m,\u001B[49m\u001B[43m \u001B[49m\u001B[43mb\u001B[49m\u001B[43m,\u001B[49m\u001B[43m \u001B[49m\u001B[43mmu\u001B[49m\u001B[43m,\u001B[49m\u001B[43m \u001B[49m\u001B[43mr\u001B[49m\u001B[43m,\u001B[49m\u001B[43m \u001B[49m\u001B[43mx\u001B[49m\u001B[43m,\u001B[49m\u001B[43m \u001B[49m\u001B[43mfriction_solver\u001B[49m\u001B[43m,\u001B[49m\u001B[43m \u001B[49m\u001B[43mengine\u001B[49m\u001B[43m)\u001B[49m\n\u001B[1;32m    243\u001B[0m     np\u001B[38;5;241m.\u001B[39msubtract(x, sol, error)\n\u001B[1;32m    244\u001B[0m     merit \u001B[38;5;241m=\u001B[39m np\u001B[38;5;241m.\u001B[39mlinalg\u001B[38;5;241m.\u001B[39mnorm(error, np\u001B[38;5;241m.\u001B[39minf)\n",
      "File \u001B[0;32m~/Documents/GitHub/libRAINBOW/python/isl/simulators/prox_rigid_bodies/gauss_seidel.py:177\u001B[0m, in \u001B[0;36msweep\u001B[0;34m(K, J, WJT, b, mu, r, x, friction_solver, engine)\u001B[0m\n\u001B[1;32m    174\u001B[0m x_b[\u001B[38;5;241m0\u001B[39m] \u001B[38;5;241m=\u001B[39m np\u001B[38;5;241m.\u001B[39mmax([\u001B[38;5;241m0.0\u001B[39m, z_b[\u001B[38;5;241m0\u001B[39m]])\n\u001B[1;32m    176\u001B[0m \u001B[38;5;66;03m# Solve:         x_f = prox_C( x_f - r (A x_f + b))\u001B[39;00m\n\u001B[0;32m--> 177\u001B[0m x_b[\u001B[38;5;241m1\u001B[39m], x_b[\u001B[38;5;241m2\u001B[39m], x_b[\u001B[38;5;241m3\u001B[39m] \u001B[38;5;241m=\u001B[39m \u001B[43mfriction_solver\u001B[49m\u001B[43m(\u001B[49m\n\u001B[1;32m    178\u001B[0m \u001B[43m    \u001B[49m\u001B[43mengine\u001B[49m\u001B[43m,\u001B[49m\u001B[43m \u001B[49m\u001B[43mz_b\u001B[49m\u001B[43m[\u001B[49m\u001B[38;5;241;43m1\u001B[39;49m\u001B[43m]\u001B[49m\u001B[43m,\u001B[49m\u001B[43m \u001B[49m\u001B[43mz_b\u001B[49m\u001B[43m[\u001B[49m\u001B[38;5;241;43m2\u001B[39;49m\u001B[43m]\u001B[49m\u001B[43m,\u001B[49m\u001B[43m \u001B[49m\u001B[43mz_b\u001B[49m\u001B[43m[\u001B[49m\u001B[38;5;241;43m3\u001B[39;49m\u001B[43m]\u001B[49m\u001B[43m,\u001B[49m\u001B[43m \u001B[49m\u001B[43mmu_k\u001B[49m\u001B[43m,\u001B[49m\u001B[43m \u001B[49m\u001B[43mx_b\u001B[49m\u001B[43m[\u001B[49m\u001B[38;5;241;43m0\u001B[39;49m\u001B[43m]\u001B[49m\n\u001B[1;32m    179\u001B[0m \u001B[43m\u001B[49m\u001B[43m)\u001B[49m\n\u001B[1;32m    180\u001B[0m \u001B[38;5;66;03m# Put updated contact forces back into solution vector\u001B[39;00m\n\u001B[1;32m    181\u001B[0m x[block] \u001B[38;5;241m=\u001B[39m x_b\n",
      "\u001B[0;31mTypeError\u001B[0m: prox_sphere() takes 5 positional arguments but 6 were given"
     ]
    }
   ],
   "source": [
    "print('Color explanation')\n",
    "print('\\tFEM Mesh: Red')\n",
    "print('\\tTraction Surface: Blue')\n",
    "print('\\tDirichlet Nodes: Black')\n",
    "print('\\tElastic Forces: Green')\n",
    "print('\\tExternal Forces: Purple')\n",
    "print('\\tDamping Forces: Gray')\n",
    "print('\\tTraction Forces: Yellow')\n",
    "\n",
    "viewer = VIEWER.Viewer()\n",
    "\n",
    "def initialize_viewer():\n",
    "    \"\"\"\n",
    "    Initialize the viewer by creating content it should show.\n",
    "    \"\"\"\n",
    "    viewer.create_frame(\"origin\")\n",
    "    for body in engine.bodies.values():    \n",
    "        opacity = 0.5\n",
    "        color = V3.make(1.0,0.1,0.1)\n",
    "        F = VM.to_triangles(body.T)\n",
    "        viewer.create_mesh(body.name, body.x0, F, color, opacity)   \n",
    "        viewer.create_scatter(body.name + '.DBC')\n",
    "    viewer.show()\n",
    "    \n",
    "def simulate():\n",
    "    \"\"\"\n",
    "    This function will run the simulation and update the viewer after each simulation step has completed.\n",
    "    \"\"\"\n",
    "    stats = []\n",
    "    dt = engine.params.time_step\n",
    "    T  = engine.params.total_time\n",
    "    fps = 1.0/dt\n",
    "    steps = int(np.round(T*fps))    \n",
    "    for i in range(steps):\n",
    "        data = SOLVER.stepper(dt, engine, debug_on=True)\n",
    "        stats.append(data)        \n",
    "        for body in engine.bodies.values():\n",
    "            viewer.update_mesh(body.name, body.x)\n",
    "            if len(body.dirichlet_conditions)>0:\n",
    "                indices = [bc.idx for bc in body.dirichlet_conditions]\n",
    "                V = body.x[indices]\n",
    "                viewer.update_scatter(body.name + '.DBC', V=V, scale=0.5, color=[0.4, 0.4, 0.4])\n",
    "    return stats\n",
    "\n",
    "initialize_viewer()\n",
    "stats = simulate()"
   ]
  },
  {
   "cell_type": "markdown",
   "metadata": {
    "pycharm": {
     "name": "#%% md\n"
    }
   },
   "source": [
    "The stepper function in the SOLVER module is the main work horse of the simulation. It outputs a lot of statistics about the numerics. This data is useful to analyze what happend in the simulation and if the simulator was working or if something unexpected happend.\n",
    "\n",
    "Often one cares about the convergence of the solver. It is not difficult to extract and plot the convergence rates. There are no contact in our setup, so we expect that no convergence plots will be shown."
   ]
  },
  {
   "cell_type": "code",
   "execution_count": null,
   "metadata": {
    "pycharm": {
     "name": "#%%\n"
    }
   },
   "outputs": [],
   "source": [
    "import matplotlib.pyplot as plt\n",
    "\n",
    "colors = ['#e6194b', '#3cb44b', '#ffe119', '#4363d8', '#f58231', '#911eb4',\n",
    "          '#46f0f0', '#f032e6', '#bcf60c', '#fabebe', '#008080', '#e6beff',\n",
    "          '#9a6324', '#fffac8', '#800000', '#aaffc3', '#808000', '#ffd8b1',\n",
    "          '#000075', '#808080', '#ffffff', '#000000']"
   ]
  },
  {
   "cell_type": "code",
   "execution_count": null,
   "metadata": {
    "pycharm": {
     "name": "#%%\n"
    }
   },
   "outputs": [],
   "source": [
    "fig = plt.figure()\n",
    "ax = plt.subplot(111)\n",
    "ax.set_title('Convergence rates')\n",
    "ax.set_xlabel('Iterations')\n",
    "ax.set_ylabel('Merit')\n",
    "plt.grid(True)\n",
    "for i in range(len(stats)):\n",
    "    data = stats[i]\n",
    "    if 'residuals' in data.keys():\n",
    "        residuals = data['residuals']\n",
    "        reject = data['reject']\n",
    "        ax.plot( residuals[np.where(reject==False)])\n",
    "plt.show()"
   ]
  },
  {
   "cell_type": "code",
   "execution_count": null,
   "metadata": {
    "pycharm": {
     "name": "#%%\n"
    }
   },
   "outputs": [],
   "source": [
    "time_elastic_forces = [ stats[i]['compute_elastic_forces'] for i in range(len(stats)) ]\n",
    "time_traction_forces = [ stats[i]['compute_traction_forces'] for i in range(len(stats)) ]\n",
    "time_damping_forces = [ stats[i]['compute_damping_forces'] for i in range(len(stats)) ]\n",
    "time_external_forces = [ stats[i]['compute_external_forces'] for i in range(len(stats)) ]\n",
    "time_mass_matrix = [ stats[i]['compute_mass_matrix'] for i in range(len(stats)) ]\n",
    "time_inverse_mass_matrix = [ stats[i]['compute_inverse_mass_matrix'] for i in range(len(stats)) ]\n",
    "time_update_bvh = [ stats[i]['update_bvh'] for i in range(len(stats)) ]\n",
    "time_narrow_phase = [ stats[i]['narrow_phase'] for i in range(len(stats)) ]\n",
    "time_contact_determination = [ stats[i]['contact_determination'] for i in range(len(stats)) ]\n",
    "time_contact_point_reduction = [ stats[i]['contact_point_reduction'] for i in range(len(stats)) ]\n",
    "time_collision_detection = [ stats[i]['collision_detection_time'] for i in range(len(stats)) ]\n",
    "time_stepper = [ stats[i]['stepper_time'] for i in range(len(stats)) ]\n",
    "time_kinetic_energy = [ stats[i]['compute_kinetic_energy'] for i in range(len(stats)) ]\n",
    "time_poential_energy = [ stats[i]['compute_potential_energy'] for i in range(len(stats)) ]\n",
    "time_elastic_energy = [ stats[i]['compute_elastic_energy'] for i in range(len(stats)) ]\n",
    "\n",
    "fig = plt.figure()\n",
    "ax = plt.subplot(111)\n",
    "ax.set_title('Profiling Timings')\n",
    "ax.set_xlabel('Step')\n",
    "ax.set_ylabel('Time [s]')\n",
    "plt.grid(True)\n",
    "ax.plot(time_elastic_forces, label='Elastic forces', color=colors[0])\n",
    "ax.plot(time_traction_forces, label='Traction forces', color=colors[1])\n",
    "ax.plot(time_damping_forces, label='Damping forces', color=colors[2])\n",
    "ax.plot(time_external_forces, label='External forces', color=colors[3])\n",
    "ax.plot(time_mass_matrix, label='Mass matrix', color=colors[4])\n",
    "ax.plot(time_inverse_mass_matrix, label='Inverse mass', color=colors[5])\n",
    "ax.plot(time_update_bvh, label='Update bvh', color=colors[6])\n",
    "ax.plot(time_narrow_phase, label='Narrow phase', color=colors[7])\n",
    "ax.plot(time_contact_determination, label='Contact determination', color=colors[8])\n",
    "ax.plot(time_contact_point_reduction, label='Contact reduction', color=colors[9])\n",
    "ax.plot(time_collision_detection, label='Collision Detection', color=colors[10])\n",
    "ax.plot(time_stepper, label='Stepper', color=colors[11])\n",
    "ax.plot(time_kinetic_energy, label='Kinetic', color=colors[12])\n",
    "ax.plot(time_poential_energy, label='Potential', color=colors[13])\n",
    "ax.plot(time_elastic_energy, label='Elastic', color=colors[14])\n",
    "ax.legend()\n",
    "plt.show()"
   ]
  },
  {
   "cell_type": "code",
   "execution_count": null,
   "metadata": {
    "pycharm": {
     "name": "#%%\n"
    }
   },
   "outputs": [],
   "source": [
    "number_of_overlaps = [ stats[i]['number_of_overlaps'] for i in range(len(stats)) ]\n",
    "step_sizes = [ stats[i]['dt'] for i in range(len(stats)) ]\n",
    "number_of_contact_points = [ stats[i]['contact_points'] for i in range(len(stats)) ]\n",
    "penetrations = [ stats[i]['max_penetration'] for i in range(len(stats)) ]\n",
    "\n",
    "fig = plt.figure()\n",
    "ax = plt.subplot(111)\n",
    "ax.set_title('Profiling data')\n",
    "ax.set_xlabel('Step')\n",
    "ax.set_ylabel('Value')\n",
    "plt.grid(True)\n",
    "ax.plot(number_of_overlaps, label='Overlaps', color=colors[0])\n",
    "ax.plot(step_sizes, label='Stepsize', color=colors[1])\n",
    "ax.plot(number_of_contact_points, label='Contacts', color=colors[2])\n",
    "ax.plot(penetrations, label='Penetrations', color=colors[6])\n",
    "ax.legend()\n",
    "plt.show()"
   ]
  },
  {
   "cell_type": "code",
   "execution_count": null,
   "metadata": {
    "pycharm": {
     "name": "#%%\n"
    }
   },
   "outputs": [],
   "source": [
    "elastic_energy = [ stats[i]['elastic_energy'] for i in range(len(stats)) ]\n",
    "kinetic_energy = [ stats[i]['kinetic_energy'] for i in range(len(stats)) ]\n",
    "potential_energy = [ stats[i]['potential_energy'] for i in range(len(stats)) ]\n",
    "\n",
    "fig = plt.figure()\n",
    "ax = plt.subplot(111)\n",
    "ax.set_title('Energy Plots')\n",
    "ax.set_xlabel('Step')\n",
    "ax.set_ylabel('Value')\n",
    "plt.grid(True)\n",
    "ax.plot(elastic_energy, label='Elastic Energy', color=colors[3])\n",
    "ax.plot(kinetic_energy, label='Kinetic Energy', color=colors[4])\n",
    "ax.plot(potential_energy, label='Potential Energy', color=colors[5])\n",
    "ax.legend()\n",
    "plt.show()"
   ]
  },
  {
   "cell_type": "code",
   "execution_count": null,
   "metadata": {
    "pycharm": {
     "name": "#%%\n"
    }
   },
   "outputs": [],
   "source": []
  }
 ],
 "metadata": {
  "kernelspec": {
   "display_name": "Python 3 (ipykernel)",
   "language": "python",
   "name": "python3"
  },
  "language_info": {
   "codemirror_mode": {
    "name": "ipython",
    "version": 3
   },
   "file_extension": ".py",
   "mimetype": "text/x-python",
   "name": "python",
   "nbconvert_exporter": "python",
   "pygments_lexer": "ipython3",
   "version": "3.9.10"
  }
 },
 "nbformat": 4,
 "nbformat_minor": 4
}