{
 "cells": [
  {
   "cell_type": "markdown",
   "metadata": {
    "pycharm": {
     "name": "#%% md\n"
    }
   },
   "source": [
    "# Demo of the Prox Soft Body Simulator: Cube"
   ]
  },
  {
   "cell_type": "code",
   "execution_count": 1,
   "metadata": {
    "pycharm": {
     "name": "#%%\n"
    }
   },
   "outputs": [],
   "source": [
    "%matplotlib widget\n",
    "\n"
   ]
  },
  {
   "cell_type": "markdown",
   "metadata": {
    "pycharm": {
     "name": "#%% md\n"
    }
   },
   "source": [
    "First we make sure to import all modules that is needed."
   ]
  },
  {
   "cell_type": "code",
   "execution_count": 2,
   "metadata": {
    "pycharm": {
     "name": "#%%\n"
    }
   },
   "outputs": [],
   "source": [
    "import numpy as np\n",
    "import rainbow.math.vector3 as V3\n",
    "import rainbow.geometry.volume_mesh as VM\n",
    "import rainbow.simulators.prox_soft_bodies.api as API\n",
    "import rainbow.simulators.prox_soft_bodies.solver as SOLVER\n",
    "import rainbow.util.viewer as VIEWER"
   ]
  },
  {
   "cell_type": "markdown",
   "metadata": {
    "pycharm": {
     "name": "#%% md\n"
    }
   },
   "source": [
    "Second we set up a test scene using a simple beam shape. The beam is created with Dirichlet constraints on its left-most face. We let gravity work on the beam and add some slight damping to the beam as well. The end result should be a beam simulation where we will see the right-most end of the beam bounce up and down."
   ]
  },
  {
   "cell_type": "code",
   "execution_count": 3,
   "metadata": {
    "pycharm": {
     "name": "#%%\n"
    }
   },
   "outputs": [],
   "source": [
    "def left_wall(x):\n",
    "    return x[0] + 1.9\n",
    "\n",
    "def right_wall(x):\n",
    "    return 1.9- x[0]\n",
    "\n",
    "Vground, Tground = VM.create_beam(7, 3, 7, 4.0, 0.5, 4.0)\n",
    "Vcube, Tcube = VM.create_beam(5, 5, 5, 1.0, 1.0, 1.0)\n",
    "Vcube[:,1] += 0.75\n",
    "\n",
    "engine = API.create_engine()\n",
    "engine.params.time_step = 0.001\n",
    "\n",
    "API.create_material(engine, 'mat')\n",
    "API.set_elasticity(engine, 'mat', 100000.0, 0.3)\n",
    "API.set_mass_density(engine, 'mat', 500.0)\n",
    "API.set_constitutive_model(engine, 'mat', API.SVK)\n",
    "API.set_viscosity(engine, 'mat', 0.5)\n",
    "API.create_surfaces_interaction(engine,'mat','mat', 0.5)\n",
    "\n",
    "API.create_soft_body(engine, 'ground', Vground, Tground)\n",
    "API.set_type(engine, 'ground', 'Free')\n",
    "API.create_dirichlet_conditions(engine, 'ground', left_wall)\n",
    "API.create_dirichlet_conditions(engine, 'ground', right_wall)\n",
    "API.set_gravity(engine, 'ground', (0,-10,0))\n",
    "API.set_material(engine,'ground','mat')\n",
    "\n",
    "API.create_soft_body(engine, 'cube', Vcube, Tcube)\n",
    "API.set_type(engine, 'cube', 'Free')\n",
    "API.set_gravity(engine, 'cube', (0,-10,0))\n",
    "API.set_material(engine,'cube','mat')"
   ]
  },
  {
   "cell_type": "markdown",
   "metadata": {
    "pycharm": {
     "name": "#%% md\n"
    }
   },
   "source": [
    "Next we create a viewer object that will be responsible for showing the result of the simulation, and then we run the simulation. "
   ]
  },
  {
   "cell_type": "code",
   "execution_count": 4,
   "metadata": {
    "pycharm": {
     "name": "#%%\n"
    }
   },
   "outputs": [
    {
     "name": "stdout",
     "output_type": "stream",
     "text": [
      "Color explanation\n",
      "\tFEM Mesh: Red\n",
      "\tTraction Surface: Blue\n",
      "\tDirichlet Nodes: Black\n",
      "\tElastic Forces: Green\n",
      "\tExternal Forces: Purple\n",
      "\tDamping Forces: Gray\n",
      "\tTraction Forces: Yellow\n"
     ]
    },
    {
     "data": {
      "application/vnd.jupyter.widget-view+json": {
       "model_id": "81f530bb8fa14e1eb23efa6a3c04bedb",
       "version_major": 2,
       "version_minor": 0
      },
      "text/plain": [
       "Renderer(camera=PerspectiveCamera(aspect=1.25, children=(DirectionalLight(color='white', intensity=0.6, positi…"
      ]
     },
     "metadata": {},
     "output_type": "display_data"
    },
    {
     "name": "stderr",
     "output_type": "stream",
     "text": [
      "/Users/shedong/miniconda3/envs/rainbow/lib/python3.11/site-packages/scipy/sparse/linalg/_dsolve/linsolve.py:412: SparseEfficiencyWarning: splu converted its input to CSC format\n",
      "  warn('splu converted its input to CSC format', SparseEfficiencyWarning)\n",
      "/Users/shedong/miniconda3/envs/rainbow/lib/python3.11/site-packages/scipy/sparse/linalg/_dsolve/linsolve.py:302: SparseEfficiencyWarning: spsolve is more efficient when sparse b is in the CSC matrix format\n",
      "  warn('spsolve is more efficient when sparse b '\n",
      "/Users/shedong/Documents/dev/soft_body_sim/RAINBOW/python/rainbow/simulators/prox_rigid_bodies/gauss_seidel.py:213: FutureWarning: In the future `np.bool` will be defined as the corresponding NumPy scalar.\n",
      "  stats[prefix + \"reject\"] = np.zeros(engine.params.max_iterations, dtype=np.bool)\n"
     ]
    },
    {
     "ename": "AttributeError",
     "evalue": "module 'numpy' has no attribute 'bool'.\n`np.bool` was a deprecated alias for the builtin `bool`. To avoid this error in existing code, use `bool` by itself. Doing this will not modify any behavior and is safe. If you specifically wanted the numpy scalar type, use `np.bool_` here.\nThe aliases was originally deprecated in NumPy 1.20; for more details and guidance see the original release note at:\n    https://numpy.org/devdocs/release/1.20.0-notes.html#deprecations",
     "output_type": "error",
     "traceback": [
      "\u001b[0;31m---------------------------------------------------------------------------\u001b[0m",
      "\u001b[0;31mAttributeError\u001b[0m                            Traceback (most recent call last)",
      "Cell \u001b[0;32mIn[4], line 44\u001b[0m\n\u001b[1;32m     41\u001b[0m     \u001b[39mreturn\u001b[39;00m API\u001b[39m.\u001b[39mget_log(engine)\n\u001b[1;32m     43\u001b[0m initialize_viewer()\n\u001b[0;32m---> 44\u001b[0m stats \u001b[39m=\u001b[39m simulate()\n",
      "Cell \u001b[0;32mIn[4], line 34\u001b[0m, in \u001b[0;36msimulate\u001b[0;34m()\u001b[0m\n\u001b[1;32m     32\u001b[0m steps \u001b[39m=\u001b[39m \u001b[39mint\u001b[39m(np\u001b[39m.\u001b[39mround(T\u001b[39m*\u001b[39mfps))    \n\u001b[1;32m     33\u001b[0m \u001b[39mfor\u001b[39;00m i \u001b[39min\u001b[39;00m \u001b[39mrange\u001b[39m(steps):\n\u001b[0;32m---> 34\u001b[0m     API\u001b[39m.\u001b[39;49msimulate(engine, dt, debug_on\u001b[39m=\u001b[39;49m\u001b[39mTrue\u001b[39;49;00m)\n\u001b[1;32m     35\u001b[0m     \u001b[39mfor\u001b[39;00m body \u001b[39min\u001b[39;00m engine\u001b[39m.\u001b[39mbodies\u001b[39m.\u001b[39mvalues():\n\u001b[1;32m     36\u001b[0m         viewer\u001b[39m.\u001b[39mupdate_mesh(body\u001b[39m.\u001b[39mname, body\u001b[39m.\u001b[39mx)\n",
      "File \u001b[0;32m~/Documents/dev/soft_body_sim/RAINBOW/python/rainbow/simulators/prox_soft_bodies/api.py:390\u001b[0m, in \u001b[0;36msimulate\u001b[0;34m(engine, T, debug_on)\u001b[0m\n\u001b[1;32m    388\u001b[0m \u001b[39mwhile\u001b[39;00m T_left:\n\u001b[1;32m    389\u001b[0m     dt \u001b[39m=\u001b[39m \u001b[39mmin\u001b[39m(T_left, engine\u001b[39m.\u001b[39mparams\u001b[39m.\u001b[39mtime_step)\n\u001b[0;32m--> 390\u001b[0m     engine\u001b[39m.\u001b[39;49mstepper\u001b[39m.\u001b[39;49mstep(dt, engine, debug_on)\n\u001b[1;32m    391\u001b[0m     T_left \u001b[39m-\u001b[39m\u001b[39m=\u001b[39m dt\n",
      "File \u001b[0;32m~/Documents/dev/soft_body_sim/RAINBOW/python/rainbow/simulators/prox_soft_bodies/solver.py:1117\u001b[0m, in \u001b[0;36mSemiImplicitStepper.step\u001b[0;34m(self, dt, engine, debug_on)\u001b[0m\n\u001b[1;32m   1115\u001b[0m     mu \u001b[39m=\u001b[39m get_friction_coefficient_vector(engine)\n\u001b[1;32m   1116\u001b[0m     b \u001b[39m=\u001b[39m J\u001b[39m.\u001b[39mdot(u_prime)\n\u001b[0;32m-> 1117\u001b[0m     sol, stats \u001b[39m=\u001b[39m GS\u001b[39m.\u001b[39;49msolve(\n\u001b[1;32m   1118\u001b[0m         J, WJT, b, mu, GS\u001b[39m.\u001b[39;49mprox_sphere, engine, stats, debug_on, \u001b[39m\"\u001b[39;49m\u001b[39mgauss_seidel_\u001b[39;49m\u001b[39m\"\u001b[39;49m\n\u001b[1;32m   1119\u001b[0m     )\n\u001b[1;32m   1120\u001b[0m     WPc \u001b[39m=\u001b[39m WJT\u001b[39m.\u001b[39mdot(sol)\n\u001b[1;32m   1122\u001b[0m \u001b[39m# --- Convert from 3N-by-1 into N-by-3 vector format -----------------\u001b[39;00m\n\u001b[1;32m   1123\u001b[0m \u001b[39m# TODO 2021-12-07 Kenny: This seems a bit silly to make this conversion. It should be abstracted\u001b[39;00m\n\u001b[1;32m   1124\u001b[0m \u001b[39m#  away such that a developer can focus more on the high-level aspects of time integration and\u001b[39;00m\n\u001b[1;32m   1125\u001b[0m \u001b[39m#  writing solver code.\u001b[39;00m\n",
      "File \u001b[0;32m~/Documents/dev/soft_body_sim/RAINBOW/python/rainbow/simulators/prox_rigid_bodies/gauss_seidel.py:213\u001b[0m, in \u001b[0;36msolve\u001b[0;34m(J, WJT, b, mu, friction_solver, engine, stats, debug_on, prefix)\u001b[0m\n\u001b[1;32m    207\u001b[0m stats[prefix \u001b[39m+\u001b[39m \u001b[39m\"\u001b[39m\u001b[39mresiduals\u001b[39m\u001b[39m\"\u001b[39m] \u001b[39m=\u001b[39m (\n\u001b[1;32m    208\u001b[0m     np\u001b[39m.\u001b[39mones(engine\u001b[39m.\u001b[39mparams\u001b[39m.\u001b[39mmax_iterations, dtype\u001b[39m=\u001b[39mnp\u001b[39m.\u001b[39mfloat64) \u001b[39m*\u001b[39m np\u001b[39m.\u001b[39minf\n\u001b[1;32m    209\u001b[0m )\n\u001b[1;32m    210\u001b[0m stats[prefix \u001b[39m+\u001b[39m \u001b[39m\"\u001b[39m\u001b[39mlambda\u001b[39m\u001b[39m\"\u001b[39m] \u001b[39m=\u001b[39m np\u001b[39m.\u001b[39mzeros(\n\u001b[1;32m    211\u001b[0m     [engine\u001b[39m.\u001b[39mparams\u001b[39m.\u001b[39mmax_iterations] \u001b[39m+\u001b[39m \u001b[39mlist\u001b[39m(b\u001b[39m.\u001b[39mshape), dtype\u001b[39m=\u001b[39mnp\u001b[39m.\u001b[39mfloat64\n\u001b[1;32m    212\u001b[0m )\n\u001b[0;32m--> 213\u001b[0m stats[prefix \u001b[39m+\u001b[39m \u001b[39m\"\u001b[39m\u001b[39mreject\u001b[39m\u001b[39m\"\u001b[39m] \u001b[39m=\u001b[39m np\u001b[39m.\u001b[39mzeros(engine\u001b[39m.\u001b[39mparams\u001b[39m.\u001b[39mmax_iterations, dtype\u001b[39m=\u001b[39mnp\u001b[39m.\u001b[39;49mbool)\n\u001b[1;32m    214\u001b[0m stats[prefix \u001b[39m+\u001b[39m \u001b[39m\"\u001b[39m\u001b[39mexitcode\u001b[39m\u001b[39m\"\u001b[39m] \u001b[39m=\u001b[39m \u001b[39m0\u001b[39m\n\u001b[1;32m    215\u001b[0m stats[prefix \u001b[39m+\u001b[39m \u001b[39m\"\u001b[39m\u001b[39miterations\u001b[39m\u001b[39m\"\u001b[39m] \u001b[39m=\u001b[39m engine\u001b[39m.\u001b[39mparams\u001b[39m.\u001b[39mmax_iterations\n",
      "File \u001b[0;32m~/miniconda3/envs/rainbow/lib/python3.11/site-packages/numpy/__init__.py:319\u001b[0m, in \u001b[0;36m__getattr__\u001b[0;34m(attr)\u001b[0m\n\u001b[1;32m    314\u001b[0m     warnings\u001b[39m.\u001b[39mwarn(\n\u001b[1;32m    315\u001b[0m         \u001b[39mf\u001b[39m\u001b[39m\"\u001b[39m\u001b[39mIn the future `np.\u001b[39m\u001b[39m{\u001b[39;00mattr\u001b[39m}\u001b[39;00m\u001b[39m` will be defined as the \u001b[39m\u001b[39m\"\u001b[39m\n\u001b[1;32m    316\u001b[0m         \u001b[39m\"\u001b[39m\u001b[39mcorresponding NumPy scalar.\u001b[39m\u001b[39m\"\u001b[39m, \u001b[39mFutureWarning\u001b[39;00m, stacklevel\u001b[39m=\u001b[39m\u001b[39m2\u001b[39m)\n\u001b[1;32m    318\u001b[0m \u001b[39mif\u001b[39;00m attr \u001b[39min\u001b[39;00m __former_attrs__:\n\u001b[0;32m--> 319\u001b[0m     \u001b[39mraise\u001b[39;00m \u001b[39mAttributeError\u001b[39;00m(__former_attrs__[attr])\n\u001b[1;32m    321\u001b[0m \u001b[39mif\u001b[39;00m attr \u001b[39m==\u001b[39m \u001b[39m'\u001b[39m\u001b[39mtesting\u001b[39m\u001b[39m'\u001b[39m:\n\u001b[1;32m    322\u001b[0m     \u001b[39mimport\u001b[39;00m \u001b[39mnumpy\u001b[39;00m\u001b[39m.\u001b[39;00m\u001b[39mtesting\u001b[39;00m \u001b[39mas\u001b[39;00m \u001b[39mtesting\u001b[39;00m\n",
      "\u001b[0;31mAttributeError\u001b[0m: module 'numpy' has no attribute 'bool'.\n`np.bool` was a deprecated alias for the builtin `bool`. To avoid this error in existing code, use `bool` by itself. Doing this will not modify any behavior and is safe. If you specifically wanted the numpy scalar type, use `np.bool_` here.\nThe aliases was originally deprecated in NumPy 1.20; for more details and guidance see the original release note at:\n    https://numpy.org/devdocs/release/1.20.0-notes.html#deprecations"
     ]
    }
   ],
   "source": [
    "print('Color explanation')\n",
    "print('\\tFEM Mesh: Red')\n",
    "print('\\tTraction Surface: Blue')\n",
    "print('\\tDirichlet Nodes: Black')\n",
    "print('\\tElastic Forces: Green')\n",
    "print('\\tExternal Forces: Purple')\n",
    "print('\\tDamping Forces: Gray')\n",
    "print('\\tTraction Forces: Yellow')\n",
    "\n",
    "viewer = VIEWER.Viewer()\n",
    "\n",
    "def initialize_viewer():\n",
    "    \"\"\"\n",
    "    Initialize the viewer by creating content it should show.\n",
    "    \"\"\"\n",
    "    viewer.create_frame(\"origin\")\n",
    "    for body in engine.bodies.values():    \n",
    "        opacity = 0.5\n",
    "        color = V3.make(1.0,0.1,0.1)\n",
    "        F = VM.to_triangles(body.T)\n",
    "        viewer.create_mesh(body.name, body.x0, F, color, opacity)   \n",
    "        viewer.create_scatter(body.name + '.DBC')\n",
    "    viewer.show()\n",
    "    \n",
    "def simulate():\n",
    "    \"\"\"\n",
    "    This function will run the simulation and update the viewer after each simulation step has completed.\n",
    "    \"\"\"\n",
    "    dt = engine.params.time_step\n",
    "    T  = 1.0\n",
    "    fps = 1.0/dt\n",
    "    steps = int(np.round(T*fps))    \n",
    "    for i in range(steps):\n",
    "        API.simulate(engine, dt, debug_on=True)\n",
    "        for body in engine.bodies.values():\n",
    "            viewer.update_mesh(body.name, body.x)\n",
    "            if len(body.dirichlet_conditions)>0:\n",
    "                indices = [bc.idx for bc in body.dirichlet_conditions]\n",
    "                V = body.x[indices]\n",
    "                viewer.update_scatter(body.name + '.DBC', V=V, scale=0.5, color=[0.4, 0.4, 0.4])\n",
    "    return API.get_log(engine)\n",
    "\n",
    "initialize_viewer()\n",
    "stats = simulate()"
   ]
  },
  {
   "cell_type": "markdown",
   "metadata": {
    "pycharm": {
     "name": "#%% md\n"
    }
   },
   "source": [
    "The stepper function in the SOLVER module is the main work horse of the simulation. It outputs a lot of statistics about the numerics. This data is useful to analyze what happend in the simulation and if the simulator was working or if something unexpected happend.\n",
    "\n",
    "Often one cares about the convergence of the solver. It is not difficult to extract and plot the convergence rates. There are no contact in our setup, so we expect that no convergence plots will be shown."
   ]
  },
  {
   "cell_type": "code",
   "execution_count": 12,
   "metadata": {
    "pycharm": {
     "name": "#%%\n"
    }
   },
   "outputs": [],
   "source": [
    "import matplotlib.pyplot as plt\n",
    "\n",
    "colors = ['#e6194b', '#3cb44b', '#ffe119', '#4363d8', '#f58231', '#911eb4',\n",
    "          '#46f0f0', '#f032e6', '#bcf60c', '#fabebe', '#008080', '#e6beff',\n",
    "          '#9a6324', '#fffac8', '#800000', '#aaffc3', '#808000', '#ffd8b1',\n",
    "          '#000075', '#808080', '#ffffff', '#000000']"
   ]
  },
  {
   "cell_type": "code",
   "execution_count": 13,
   "metadata": {
    "pycharm": {
     "name": "#%%\n"
    }
   },
   "outputs": [
    {
     "data": {
      "application/vnd.jupyter.widget-view+json": {
       "model_id": "4538f1d98ea1407a8fb2d54d43c1321f",
       "version_major": 2,
       "version_minor": 0
      },
      "text/plain": [
       "Canvas(toolbar=Toolbar(toolitems=[('Home', 'Reset original view', 'home', 'home'), ('Back', 'Back to previous …"
      ]
     },
     "metadata": {},
     "output_type": "display_data"
    }
   ],
   "source": [
    "fig = plt.figure()\n",
    "ax = plt.subplot(111)\n",
    "ax.set_title('Convergence rates')\n",
    "ax.set_xlabel('Iterations')\n",
    "ax.set_ylabel('Merit')\n",
    "plt.grid(True)\n",
    "for i in range(len(stats)):\n",
    "    data = stats[i]\n",
    "    if 'residuals' in data.keys():\n",
    "        residuals = data['residuals']\n",
    "        reject = data['reject']\n",
    "        ax.plot( residuals[np.where(reject==False)])\n",
    "plt.show()"
   ]
  },
  {
   "cell_type": "code",
   "execution_count": null,
   "metadata": {
    "pycharm": {
     "name": "#%%\n"
    }
   },
   "outputs": [],
   "source": [
    "time_mass_matrix = stats[0]['compute_mass_matrix']\n",
    "time_inverse_mass_matrix = stats[0]['compute_inverse_mass_matrix']\n",
    "\n",
    "print('mass matrix took ',time_mass_matrix, 'seconds, and inverse mass took ', time_inverse_mass_matrix, 'seconds')\n",
    "\n",
    "time_elastic_forces = [ stats[i]['compute_elastic_forces'] for i in range(1, len(stats)) ]\n",
    "time_traction_forces = [ stats[i]['compute_traction_forces'] for i in range(1, len(stats)) ]\n",
    "time_damping_forces = [ stats[i]['compute_damping_forces'] for i in range(1, len(stats)) ]\n",
    "time_external_forces = [ stats[i]['compute_external_forces'] for i in range(1, len(stats)) ]\n",
    "time_update_bvh = [ stats[i]['update_bvh'] for i in range(1, len(stats)) ]\n",
    "time_narrow_phase = [ stats[i]['narrow_phase'] for i in range(1, len(stats)) ]\n",
    "time_contact_determination = [ stats[i]['contact_determination'] for i in range(1, len(stats)) ]\n",
    "time_contact_point_reduction = [ stats[i]['contact_point_reduction'] for i in range(1, len(stats)) ]\n",
    "time_collision_detection = [ stats[i]['collision_detection_time'] for i in range(1, len(stats)) ]\n",
    "time_stepper = [ stats[i]['stepper_time'] for i in range(1, len(stats)) ]\n",
    "time_kinetic_energy = [ stats[i]['compute_kinetic_energy'] for i in range(1, len(stats)) ]\n",
    "time_poential_energy = [ stats[i]['compute_potential_energy'] for i in range(1, len(stats)) ]\n",
    "time_elastic_energy = [ stats[i]['compute_elastic_energy'] for i in range(1, len(stats)) ]\n",
    "\n",
    "fig = plt.figure()\n",
    "ax = plt.subplot(111)\n",
    "ax.set_title('Profiling Timings')\n",
    "ax.set_xlabel('Step')\n",
    "ax.set_ylabel('Time [s]')\n",
    "plt.grid(True)\n",
    "ax.plot(time_elastic_forces, label='Elastic forces', color=colors[0])\n",
    "ax.plot(time_traction_forces, label='Traction forces', color=colors[1])\n",
    "ax.plot(time_damping_forces, label='Damping forces', color=colors[2])\n",
    "ax.plot(time_external_forces, label='External forces', color=colors[3])\n",
    "ax.plot(time_update_bvh, label='Update bvh', color=colors[6])\n",
    "ax.plot(time_narrow_phase, label='Narrow phase', color=colors[7])\n",
    "ax.plot(time_contact_determination, label='Contact determination', color=colors[8])\n",
    "ax.plot(time_contact_point_reduction, label='Contact reduction', color=colors[9])\n",
    "ax.plot(time_collision_detection, label='Collision Detection', color=colors[10])\n",
    "ax.plot(time_stepper, label='Stepper', color=colors[11])\n",
    "ax.plot(time_kinetic_energy, label='Kinetic', color=colors[12])\n",
    "ax.plot(time_poential_energy, label='Potential', color=colors[13])\n",
    "ax.plot(time_elastic_energy, label='Elastic', color=colors[14])\n",
    "ax.legend()\n",
    "plt.show()"
   ]
  },
  {
   "cell_type": "code",
   "execution_count": null,
   "metadata": {
    "pycharm": {
     "name": "#%%\n"
    }
   },
   "outputs": [],
   "source": [
    "number_of_overlaps = [ stats[i]['number_of_overlaps'] for i in range(1, len(stats)) ]\n",
    "step_sizes = [ stats[i]['dt'] for i in range(1, len(stats)) ]\n",
    "number_of_contact_points = [ stats[i]['contact_points'] for i in range(1, len(stats)) ]\n",
    "penetrations = [ stats[i]['max_penetration'] for i in range(1, len(stats)) ]\n",
    "\n",
    "fig = plt.figure()\n",
    "ax = plt.subplot(111)\n",
    "ax.set_title('Profiling data')\n",
    "ax.set_xlabel('Step')\n",
    "ax.set_ylabel('Value')\n",
    "plt.grid(True)\n",
    "ax.plot(number_of_overlaps, label='Overlaps', color=colors[0])\n",
    "ax.plot(step_sizes, label='Stepsize', color=colors[1])\n",
    "ax.plot(number_of_contact_points, label='Contacts', color=colors[2])\n",
    "ax.plot(penetrations, label='Penetrations', color=colors[6])\n",
    "ax.legend()\n",
    "plt.show()"
   ]
  },
  {
   "cell_type": "code",
   "execution_count": null,
   "metadata": {
    "pycharm": {
     "name": "#%%\n"
    }
   },
   "outputs": [],
   "source": [
    "elastic_energy = [ stats[i]['elastic_energy'] for i in range(1, len(stats)) ]\n",
    "kinetic_energy = [ stats[i]['kinetic_energy'] for i in range(1, len(stats)) ]\n",
    "potential_energy = [ stats[i]['potential_energy'] for i in range(1, len(stats)) ]\n",
    "\n",
    "fig = plt.figure()\n",
    "ax = plt.subplot(111)\n",
    "ax.set_title('Energy Plots')\n",
    "ax.set_xlabel('Step')\n",
    "ax.set_ylabel('Value')\n",
    "plt.grid(True)\n",
    "ax.plot(elastic_energy, label='Elastic Energy', color=colors[3])\n",
    "ax.plot(kinetic_energy, label='Kinetic Energy', color=colors[4])\n",
    "ax.plot(potential_energy, label='Potential Energy', color=colors[5])\n",
    "ax.legend()\n",
    "plt.show()"
   ]
  },
  {
   "cell_type": "code",
   "execution_count": null,
   "metadata": {
    "pycharm": {
     "name": "#%%\n"
    }
   },
   "outputs": [],
   "source": []
  }
 ],
 "metadata": {
  "kernelspec": {
   "display_name": "Python 3 (ipykernel)",
   "language": "python",
   "name": "python3"
  },
  "language_info": {
   "codemirror_mode": {
    "name": "ipython",
    "version": 3
   },
   "file_extension": ".py",
   "mimetype": "text/x-python",
   "name": "python",
   "nbconvert_exporter": "python",
   "pygments_lexer": "ipython3",
   "version": "3.11.5"
  }
 },
 "nbformat": 4,
 "nbformat_minor": 4
}
